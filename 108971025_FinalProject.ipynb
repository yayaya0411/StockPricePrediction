{
  "cells": [
    {
      "cell_type": "markdown",
      "metadata": {
        "id": "dhzzBTecCF1Z"
      },
      "source": [
        "## Stock Market Portfolio Prediction\n"
      ]
    },
    {
      "cell_type": "markdown",
      "metadata": {
        "id": "Re8bujmbHhsg"
      },
      "source": [
        "Link to Google Drive and Copy Necessary File to Colab"
      ]
    },
    {
      "cell_type": "code",
      "execution_count": null,
      "metadata": {
        "id": "zZsqJNmfHyb7"
      },
      "outputs": [],
      "source": [
        "%matplotlib inline\n",
        "colab = True\n",
        "\n",
        "if colab==True:\n",
        "    from google.colab import drive\n",
        "    drive.mount('/content/drive')\n",
        "    !mkdir StockData\n",
        "    %cp 'drive/My Drive/NCCU/1082_Deep Learning/FinalProject/kaggle_stock.zip' /content/\n",
        "    !unzip -n /content/kaggle_stock.zip -d /content/StockData/\n",
        "    # !pip uninstall plotly --yes\n",
        "    # !pip install plotly==4.8.1\n",
        "    data_folder = 'StockData/Stocks'\n",
        "else:\n",
        "    data_folder = f'F:/GoogleDrive/NCCU/1082_Deep Learning/FinalProject/kaggle_stock/Stocks'    "
      ]
    },
    {
      "cell_type": "markdown",
      "metadata": {
        "id": "5GDxRO1RIZ0z"
      },
      "source": [
        "Import Module"
      ]
    },
    {
      "cell_type": "markdown",
      "metadata": {
        "id": "HJhS41iQ25T1"
      },
      "source": [
        " # -----------------Preprocess----------------"
      ]
    },
    {
      "cell_type": "markdown",
      "metadata": {
        "id": "waS7Dy5lI1qL"
      },
      "source": [
        "### Load & Pick Stock Data"
      ]
    },
    {
      "cell_type": "code",
      "execution_count": null,
      "metadata": {
        "colab": {
          "base_uri": "https://localhost:8080/",
          "height": 68
        },
        "id": "XV9st6ukI1Rf",
        "outputId": "a207cc70-b07b-4206-9646-69df113deed8"
      },
      "outputs": [
        {
          "name": "stdout",
          "output_type": "stream",
          "text": [
            "Training Stock info \n",
            " Stock : amzn \n",
            " Trading Days : 5153\n"
          ]
        }
      ],
      "source": []
    },
    {
      "cell_type": "code",
      "execution_count": null,
      "metadata": {
        "colab": {
          "base_uri": "https://localhost:8080/",
          "height": 204
        },
        "id": "zzfz7dQbfQIm",
        "outputId": "06d8ef35-691a-482f-c7a2-8e0b3d10c0ae"
      },
      "outputs": [
        {
          "data": {
            "text/html": [
              "<div>\n",
              "<style scoped>\n",
              "    .dataframe tbody tr th:only-of-type {\n",
              "        vertical-align: middle;\n",
              "    }\n",
              "\n",
              "    .dataframe tbody tr th {\n",
              "        vertical-align: top;\n",
              "    }\n",
              "\n",
              "    .dataframe thead th {\n",
              "        text-align: right;\n",
              "    }\n",
              "</style>\n",
              "<table border=\"1\" class=\"dataframe\">\n",
              "  <thead>\n",
              "    <tr style=\"text-align: right;\">\n",
              "      <th></th>\n",
              "      <th>Date</th>\n",
              "      <th>Open</th>\n",
              "      <th>High</th>\n",
              "      <th>Low</th>\n",
              "      <th>Close</th>\n",
              "      <th>Volume</th>\n",
              "      <th>OpenInt</th>\n",
              "      <th>Label</th>\n",
              "    </tr>\n",
              "  </thead>\n",
              "  <tbody>\n",
              "    <tr>\n",
              "      <th>0</th>\n",
              "      <td>1997-05-16</td>\n",
              "      <td>1.97</td>\n",
              "      <td>1.98</td>\n",
              "      <td>1.71</td>\n",
              "      <td>1.73</td>\n",
              "      <td>14700000</td>\n",
              "      <td>0</td>\n",
              "      <td>amzn</td>\n",
              "    </tr>\n",
              "    <tr>\n",
              "      <th>1</th>\n",
              "      <td>1997-05-19</td>\n",
              "      <td>1.76</td>\n",
              "      <td>1.77</td>\n",
              "      <td>1.62</td>\n",
              "      <td>1.71</td>\n",
              "      <td>6106800</td>\n",
              "      <td>0</td>\n",
              "      <td>amzn</td>\n",
              "    </tr>\n",
              "    <tr>\n",
              "      <th>2</th>\n",
              "      <td>1997-05-20</td>\n",
              "      <td>1.73</td>\n",
              "      <td>1.75</td>\n",
              "      <td>1.64</td>\n",
              "      <td>1.64</td>\n",
              "      <td>5467200</td>\n",
              "      <td>0</td>\n",
              "      <td>amzn</td>\n",
              "    </tr>\n",
              "    <tr>\n",
              "      <th>3</th>\n",
              "      <td>1997-05-21</td>\n",
              "      <td>1.64</td>\n",
              "      <td>1.65</td>\n",
              "      <td>1.38</td>\n",
              "      <td>1.43</td>\n",
              "      <td>18853200</td>\n",
              "      <td>0</td>\n",
              "      <td>amzn</td>\n",
              "    </tr>\n",
              "    <tr>\n",
              "      <th>4</th>\n",
              "      <td>1997-05-22</td>\n",
              "      <td>1.44</td>\n",
              "      <td>1.45</td>\n",
              "      <td>1.31</td>\n",
              "      <td>1.40</td>\n",
              "      <td>11776800</td>\n",
              "      <td>0</td>\n",
              "      <td>amzn</td>\n",
              "    </tr>\n",
              "  </tbody>\n",
              "</table>\n",
              "</div>"
            ],
            "text/plain": [
              "        Date  Open  High   Low  Close    Volume  OpenInt Label\n",
              "0 1997-05-16  1.97  1.98  1.71   1.73  14700000        0  amzn\n",
              "1 1997-05-19  1.76  1.77  1.62   1.71   6106800        0  amzn\n",
              "2 1997-05-20  1.73  1.75  1.64   1.64   5467200        0  amzn\n",
              "3 1997-05-21  1.64  1.65  1.38   1.43  18853200        0  amzn\n",
              "4 1997-05-22  1.44  1.45  1.31   1.40  11776800        0  amzn"
            ]
          },
          "execution_count": 5,
          "metadata": {
            "tags": []
          },
          "output_type": "execute_result"
        }
      ],
      "source": [
        "data.head()"
      ]
    },
    {
      "cell_type": "markdown",
      "metadata": {
        "id": "A1v1YGDEgJEc"
      },
      "source": [
        "### Plot Stock Data"
      ]
    },
    {
      "cell_type": "markdown",
      "metadata": {
        "id": "Mw_fqcU-AJZH"
      },
      "source": [
        "## Calculate Technical Index Data"
      ]
    },
    {
      "cell_type": "code",
      "execution_count": null,
      "metadata": {
        "colab": {
          "base_uri": "https://localhost:8080/",
          "height": 317
        },
        "id": "77rmzBgJf2bu",
        "outputId": "cbdf7ff6-caad-4916-c191-ab175e9e2795"
      },
      "outputs": [
        {
          "data": {
            "text/html": [
              "<div>\n",
              "<style scoped>\n",
              "    .dataframe tbody tr th:only-of-type {\n",
              "        vertical-align: middle;\n",
              "    }\n",
              "\n",
              "    .dataframe tbody tr th {\n",
              "        vertical-align: top;\n",
              "    }\n",
              "\n",
              "    .dataframe thead th {\n",
              "        text-align: right;\n",
              "    }\n",
              "</style>\n",
              "<table border=\"1\" class=\"dataframe\">\n",
              "  <thead>\n",
              "    <tr style=\"text-align: right;\">\n",
              "      <th></th>\n",
              "      <th>Open</th>\n",
              "      <th>High</th>\n",
              "      <th>Low</th>\n",
              "      <th>Close</th>\n",
              "      <th>Volume</th>\n",
              "      <th>RSI_14D</th>\n",
              "      <th>Volume_plain</th>\n",
              "      <th>BB_Middle_Band</th>\n",
              "      <th>BB_Upper_Band</th>\n",
              "      <th>BB_Lower_Band</th>\n",
              "      <th>Aroon_Oscillator</th>\n",
              "      <th>PVT</th>\n",
              "      <th>AB_Middle_Band</th>\n",
              "      <th>AB_Upper_Band</th>\n",
              "      <th>AB_Lower_Band</th>\n",
              "      <th>STOK</th>\n",
              "      <th>STOD</th>\n",
              "      <th>Chaikin_MF</th>\n",
              "      <th>psar</th>\n",
              "      <th>ROC</th>\n",
              "      <th>VWAP</th>\n",
              "      <th>Momentum</th>\n",
              "      <th>CCI</th>\n",
              "      <th>OBV</th>\n",
              "      <th>Kelch_Upper</th>\n",
              "      <th>Kelch_Middle</th>\n",
              "      <th>Kelch_Down</th>\n",
              "      <th>TEMA</th>\n",
              "      <th>NATR</th>\n",
              "      <th>plusDI</th>\n",
              "      <th>minusDI</th>\n",
              "      <th>ADX</th>\n",
              "      <th>MACD</th>\n",
              "      <th>Money_Flow_Index</th>\n",
              "      <th>turning_line</th>\n",
              "      <th>standard_line</th>\n",
              "      <th>ichimoku_span1</th>\n",
              "      <th>ichimoku_span2</th>\n",
              "      <th>chikou_span</th>\n",
              "      <th>WillR</th>\n",
              "      <th>MIN_Volume</th>\n",
              "      <th>MAX_Volume</th>\n",
              "      <th>KAMA</th>\n",
              "    </tr>\n",
              "  </thead>\n",
              "  <tbody>\n",
              "    <tr>\n",
              "      <th>count</th>\n",
              "      <td>5153.000000</td>\n",
              "      <td>5153.000000</td>\n",
              "      <td>5153.000000</td>\n",
              "      <td>5153.000000</td>\n",
              "      <td>5.153000e+03</td>\n",
              "      <td>5153.000000</td>\n",
              "      <td>5.153000e+03</td>\n",
              "      <td>5153.000000</td>\n",
              "      <td>5153.000000</td>\n",
              "      <td>5153.000000</td>\n",
              "      <td>5153.000000</td>\n",
              "      <td>5.153000e+03</td>\n",
              "      <td>5153.000000</td>\n",
              "      <td>5153.000000</td>\n",
              "      <td>5153.000000</td>\n",
              "      <td>5153.000000</td>\n",
              "      <td>5153.000000</td>\n",
              "      <td>5153.000000</td>\n",
              "      <td>5153.000000</td>\n",
              "      <td>5153.000000</td>\n",
              "      <td>5153.000000</td>\n",
              "      <td>5153.000000</td>\n",
              "      <td>5153.000000</td>\n",
              "      <td>5.153000e+03</td>\n",
              "      <td>5153.000000</td>\n",
              "      <td>5153.000000</td>\n",
              "      <td>5153.000000</td>\n",
              "      <td>5.153000e+03</td>\n",
              "      <td>5153.000000</td>\n",
              "      <td>5153.000000</td>\n",
              "      <td>5153.000000</td>\n",
              "      <td>5153.000000</td>\n",
              "      <td>5153.000000</td>\n",
              "      <td>5153.000000</td>\n",
              "      <td>5153.000000</td>\n",
              "      <td>5153.000000</td>\n",
              "      <td>5153.000000</td>\n",
              "      <td>5153.000000</td>\n",
              "      <td>5153.000000</td>\n",
              "      <td>5153.000000</td>\n",
              "      <td>5.153000e+03</td>\n",
              "      <td>5.153000e+03</td>\n",
              "      <td>5153.000000</td>\n",
              "    </tr>\n",
              "    <tr>\n",
              "      <th>mean</th>\n",
              "      <td>181.747357</td>\n",
              "      <td>183.880652</td>\n",
              "      <td>179.466684</td>\n",
              "      <td>179.809095</td>\n",
              "      <td>7.837325e+06</td>\n",
              "      <td>53.321620</td>\n",
              "      <td>7.837325e+06</td>\n",
              "      <td>179.756915</td>\n",
              "      <td>185.832664</td>\n",
              "      <td>173.680805</td>\n",
              "      <td>13.070444</td>\n",
              "      <td>1.228480e+01</td>\n",
              "      <td>179.756735</td>\n",
              "      <td>190.796210</td>\n",
              "      <td>168.887816</td>\n",
              "      <td>26.848405</td>\n",
              "      <td>26.845603</td>\n",
              "      <td>0.942078</td>\n",
              "      <td>179.809095</td>\n",
              "      <td>3.011278</td>\n",
              "      <td>46.803963</td>\n",
              "      <td>0.789484</td>\n",
              "      <td>18.050112</td>\n",
              "      <td>1.657855e+09</td>\n",
              "      <td>184.088305</td>\n",
              "      <td>179.694997</td>\n",
              "      <td>175.301690</td>\n",
              "      <td>6.064983e+07</td>\n",
              "      <td>12.189420</td>\n",
              "      <td>10.291297</td>\n",
              "      <td>8.507673</td>\n",
              "      <td>35.176703</td>\n",
              "      <td>1.333311</td>\n",
              "      <td>53.529545</td>\n",
              "      <td>180.680694</td>\n",
              "      <td>179.063127</td>\n",
              "      <td>174.781972</td>\n",
              "      <td>172.003725</td>\n",
              "      <td>179.802088</td>\n",
              "      <td>-50.088468</td>\n",
              "      <td>3.973127e+06</td>\n",
              "      <td>1.706793e+07</td>\n",
              "      <td>179.698212</td>\n",
              "    </tr>\n",
              "    <tr>\n",
              "      <th>std</th>\n",
              "      <td>239.611052</td>\n",
              "      <td>241.226109</td>\n",
              "      <td>237.638139</td>\n",
              "      <td>235.822755</td>\n",
              "      <td>7.594745e+06</td>\n",
              "      <td>12.626502</td>\n",
              "      <td>7.594745e+06</td>\n",
              "      <td>236.287573</td>\n",
              "      <td>241.613168</td>\n",
              "      <td>231.054421</td>\n",
              "      <td>59.166571</td>\n",
              "      <td>1.539436e+06</td>\n",
              "      <td>236.287557</td>\n",
              "      <td>245.183871</td>\n",
              "      <td>227.393769</td>\n",
              "      <td>31.674041</td>\n",
              "      <td>24.745578</td>\n",
              "      <td>6.862603</td>\n",
              "      <td>235.822755</td>\n",
              "      <td>18.550582</td>\n",
              "      <td>22.549607</td>\n",
              "      <td>12.435363</td>\n",
              "      <td>94.096887</td>\n",
              "      <td>4.885002e+08</td>\n",
              "      <td>239.564479</td>\n",
              "      <td>235.975534</td>\n",
              "      <td>232.404503</td>\n",
              "      <td>1.805207e+08</td>\n",
              "      <td>8.239126</td>\n",
              "      <td>6.373242</td>\n",
              "      <td>4.963289</td>\n",
              "      <td>12.666804</td>\n",
              "      <td>6.201589</td>\n",
              "      <td>18.512328</td>\n",
              "      <td>237.677718</td>\n",
              "      <td>234.908987</td>\n",
              "      <td>229.092595</td>\n",
              "      <td>224.546192</td>\n",
              "      <td>235.828073</td>\n",
              "      <td>37.649469</td>\n",
              "      <td>2.495219e+06</td>\n",
              "      <td>1.551829e+07</td>\n",
              "      <td>236.019938</td>\n",
              "    </tr>\n",
              "    <tr>\n",
              "      <th>min</th>\n",
              "      <td>1.410000</td>\n",
              "      <td>1.450000</td>\n",
              "      <td>1.310000</td>\n",
              "      <td>1.310000</td>\n",
              "      <td>0.000000e+00</td>\n",
              "      <td>0.000000</td>\n",
              "      <td>0.000000e+00</td>\n",
              "      <td>0.000000</td>\n",
              "      <td>0.000000</td>\n",
              "      <td>0.000000</td>\n",
              "      <td>-96.000000</td>\n",
              "      <td>-2.227671e+07</td>\n",
              "      <td>0.000000</td>\n",
              "      <td>0.000000</td>\n",
              "      <td>0.000000</td>\n",
              "      <td>-58.973624</td>\n",
              "      <td>-45.354515</td>\n",
              "      <td>-52.562732</td>\n",
              "      <td>1.310000</td>\n",
              "      <td>-53.018182</td>\n",
              "      <td>1.553649</td>\n",
              "      <td>-98.303421</td>\n",
              "      <td>-245.585262</td>\n",
              "      <td>-7.018080e+07</td>\n",
              "      <td>0.000000</td>\n",
              "      <td>0.000000</td>\n",
              "      <td>0.000000</td>\n",
              "      <td>1.041463e+00</td>\n",
              "      <td>0.000000</td>\n",
              "      <td>0.000000</td>\n",
              "      <td>0.000000</td>\n",
              "      <td>0.000000</td>\n",
              "      <td>-37.764114</td>\n",
              "      <td>0.000000</td>\n",
              "      <td>0.000000</td>\n",
              "      <td>0.000000</td>\n",
              "      <td>0.000000</td>\n",
              "      <td>0.000000</td>\n",
              "      <td>0.000000</td>\n",
              "      <td>-152.627941</td>\n",
              "      <td>0.000000e+00</td>\n",
              "      <td>0.000000e+00</td>\n",
              "      <td>0.000000</td>\n",
              "    </tr>\n",
              "    <tr>\n",
              "      <th>25%</th>\n",
              "      <td>35.500000</td>\n",
              "      <td>36.130000</td>\n",
              "      <td>35.000000</td>\n",
              "      <td>35.335872</td>\n",
              "      <td>3.779449e+06</td>\n",
              "      <td>44.784219</td>\n",
              "      <td>3.779449e+06</td>\n",
              "      <td>35.448000</td>\n",
              "      <td>37.104000</td>\n",
              "      <td>33.945000</td>\n",
              "      <td>-40.000000</td>\n",
              "      <td>-1.323281e+05</td>\n",
              "      <td>35.448000</td>\n",
              "      <td>38.943862</td>\n",
              "      <td>32.781234</td>\n",
              "      <td>2.294557</td>\n",
              "      <td>7.651454</td>\n",
              "      <td>-2.078564</td>\n",
              "      <td>35.335872</td>\n",
              "      <td>-6.929956</td>\n",
              "      <td>35.381700</td>\n",
              "      <td>-2.756096</td>\n",
              "      <td>-69.248621</td>\n",
              "      <td>1.482159e+09</td>\n",
              "      <td>36.913081</td>\n",
              "      <td>35.621620</td>\n",
              "      <td>34.481556</td>\n",
              "      <td>4.082671e+04</td>\n",
              "      <td>6.554542</td>\n",
              "      <td>6.066521</td>\n",
              "      <td>4.982882</td>\n",
              "      <td>25.914620</td>\n",
              "      <td>-0.930331</td>\n",
              "      <td>42.772692</td>\n",
              "      <td>35.450000</td>\n",
              "      <td>35.630000</td>\n",
              "      <td>35.270000</td>\n",
              "      <td>35.180000</td>\n",
              "      <td>35.335872</td>\n",
              "      <td>-85.440767</td>\n",
              "      <td>2.237571e+06</td>\n",
              "      <td>7.701300e+06</td>\n",
              "      <td>35.584692</td>\n",
              "    </tr>\n",
              "    <tr>\n",
              "      <th>50%</th>\n",
              "      <td>70.900000</td>\n",
              "      <td>72.750000</td>\n",
              "      <td>69.020000</td>\n",
              "      <td>70.778048</td>\n",
              "      <td>5.902992e+06</td>\n",
              "      <td>53.269537</td>\n",
              "      <td>5.902992e+06</td>\n",
              "      <td>70.956000</td>\n",
              "      <td>76.365000</td>\n",
              "      <td>65.883000</td>\n",
              "      <td>32.000000</td>\n",
              "      <td>-2.206058e+03</td>\n",
              "      <td>70.956500</td>\n",
              "      <td>81.920330</td>\n",
              "      <td>61.413195</td>\n",
              "      <td>28.982301</td>\n",
              "      <td>29.500845</td>\n",
              "      <td>0.847102</td>\n",
              "      <td>70.778048</td>\n",
              "      <td>1.708367</td>\n",
              "      <td>40.365494</td>\n",
              "      <td>0.438066</td>\n",
              "      <td>34.120650</td>\n",
              "      <td>1.741471e+09</td>\n",
              "      <td>75.155441</td>\n",
              "      <td>71.130541</td>\n",
              "      <td>67.191363</td>\n",
              "      <td>3.419991e+05</td>\n",
              "      <td>9.462406</td>\n",
              "      <td>8.970120</td>\n",
              "      <td>7.523138</td>\n",
              "      <td>33.253845</td>\n",
              "      <td>0.438695</td>\n",
              "      <td>51.160046</td>\n",
              "      <td>71.985000</td>\n",
              "      <td>72.655000</td>\n",
              "      <td>71.012500</td>\n",
              "      <td>71.920000</td>\n",
              "      <td>70.778048</td>\n",
              "      <td>-52.421524</td>\n",
              "      <td>3.542541e+06</td>\n",
              "      <td>1.166660e+07</td>\n",
              "      <td>70.979891</td>\n",
              "    </tr>\n",
              "    <tr>\n",
              "      <th>75%</th>\n",
              "      <td>242.850000</td>\n",
              "      <td>245.770000</td>\n",
              "      <td>240.670000</td>\n",
              "      <td>242.545689</td>\n",
              "      <td>8.888949e+06</td>\n",
              "      <td>61.645299</td>\n",
              "      <td>8.888949e+06</td>\n",
              "      <td>238.514000</td>\n",
              "      <td>246.043000</td>\n",
              "      <td>231.095000</td>\n",
              "      <td>64.000000</td>\n",
              "      <td>1.300381e+05</td>\n",
              "      <td>238.514000</td>\n",
              "      <td>252.315627</td>\n",
              "      <td>226.369894</td>\n",
              "      <td>52.630489</td>\n",
              "      <td>47.563497</td>\n",
              "      <td>3.790166</td>\n",
              "      <td>242.545689</td>\n",
              "      <td>10.405791</td>\n",
              "      <td>59.065579</td>\n",
              "      <td>4.334150</td>\n",
              "      <td>96.740669</td>\n",
              "      <td>1.946754e+09</td>\n",
              "      <td>243.104718</td>\n",
              "      <td>237.874632</td>\n",
              "      <td>232.732449</td>\n",
              "      <td>1.386668e+07</td>\n",
              "      <td>15.439390</td>\n",
              "      <td>12.812320</td>\n",
              "      <td>10.810892</td>\n",
              "      <td>43.088194</td>\n",
              "      <td>2.806722</td>\n",
              "      <td>64.891455</td>\n",
              "      <td>239.560000</td>\n",
              "      <td>236.865000</td>\n",
              "      <td>231.817500</td>\n",
              "      <td>228.730000</td>\n",
              "      <td>242.545689</td>\n",
              "      <td>-14.378749</td>\n",
              "      <td>4.967328e+06</td>\n",
              "      <td>2.024490e+07</td>\n",
              "      <td>240.181002</td>\n",
              "    </tr>\n",
              "    <tr>\n",
              "      <th>max</th>\n",
              "      <td>1126.100000</td>\n",
              "      <td>1135.540000</td>\n",
              "      <td>1124.060000</td>\n",
              "      <td>1083.310000</td>\n",
              "      <td>1.043288e+08</td>\n",
              "      <td>95.829713</td>\n",
              "      <td>1.043288e+08</td>\n",
              "      <td>1056.365000</td>\n",
              "      <td>1123.522000</td>\n",
              "      <td>992.388000</td>\n",
              "      <td>96.000000</td>\n",
              "      <td>2.812517e+07</td>\n",
              "      <td>1056.365000</td>\n",
              "      <td>1099.238809</td>\n",
              "      <td>1011.916309</td>\n",
              "      <td>93.750000</td>\n",
              "      <td>81.235146</td>\n",
              "      <td>61.271848</td>\n",
              "      <td>1083.310000</td>\n",
              "      <td>145.495550</td>\n",
              "      <td>112.153526</td>\n",
              "      <td>108.413681</td>\n",
              "      <td>260.793391</td>\n",
              "      <td>2.544684e+09</td>\n",
              "      <td>1071.814078</td>\n",
              "      <td>1053.224792</td>\n",
              "      <td>1034.635507</td>\n",
              "      <td>1.231093e+09</td>\n",
              "      <td>58.256587</td>\n",
              "      <td>72.632845</td>\n",
              "      <td>45.637729</td>\n",
              "      <td>100.000000</td>\n",
              "      <td>38.148607</td>\n",
              "      <td>100.000000</td>\n",
              "      <td>1111.205000</td>\n",
              "      <td>1049.020000</td>\n",
              "      <td>1030.357500</td>\n",
              "      <td>1014.155000</td>\n",
              "      <td>1083.310000</td>\n",
              "      <td>151.141818</td>\n",
              "      <td>2.376720e+07</td>\n",
              "      <td>1.043288e+08</td>\n",
              "      <td>1068.858829</td>\n",
              "    </tr>\n",
              "  </tbody>\n",
              "</table>\n",
              "</div>"
            ],
            "text/plain": [
              "              Open         High  ...    MAX_Volume         KAMA\n",
              "count  5153.000000  5153.000000  ...  5.153000e+03  5153.000000\n",
              "mean    181.747357   183.880652  ...  1.706793e+07   179.698212\n",
              "std     239.611052   241.226109  ...  1.551829e+07   236.019938\n",
              "min       1.410000     1.450000  ...  0.000000e+00     0.000000\n",
              "25%      35.500000    36.130000  ...  7.701300e+06    35.584692\n",
              "50%      70.900000    72.750000  ...  1.166660e+07    70.979891\n",
              "75%     242.850000   245.770000  ...  2.024490e+07   240.181002\n",
              "max    1126.100000  1135.540000  ...  1.043288e+08  1068.858829\n",
              "\n",
              "[8 rows x 43 columns]"
            ]
          },
          "execution_count": 5,
          "metadata": {
            "tags": []
          },
          "output_type": "execute_result"
        }
      ],
      "source": [
        "techindi.describe()\n"
      ]
    },
    {
      "cell_type": "markdown",
      "metadata": {
        "id": "zMdxdfyUbweq"
      },
      "source": [
        "## Correation Heatmap"
      ]
    },
    {
      "cell_type": "markdown",
      "metadata": {
        "id": "m9OGkj5W4HbC"
      },
      "source": [
        "## Pick Columns by Correalation\n",
        "Use full stock data's techinical index to caculate correalation </br>\n",
        "Training by pick stock data"
      ]
    },
    {
      "cell_type": "code",
      "execution_count": null,
      "metadata": {
        "id": "sshK1G_HfwQk"
      },
      "outputs": [],
      "source": [
        "# feature = corr['Close'][abs(corr['Close'])>0.3].index\n",
        "# techindi = techindi[feature]\n",
        "\n",
        "normalized_df = copy.deepcopy(techindi)\n",
        "# normalized_df = normalized_df[normalized_df.index >= '2012-11-20'] # use 5 years stock data to train\n",
        "# normalized_df = normalized_df.iloc[:,3:]\n",
        "\n",
        "# ti_List = []\n",
        "# x = normalized_df['Label'][0]\n",
        "# ti_List.append(x)\n",
        "# normalized_df = normalized_df.drop('Label', 1)\n",
        "# max_value = normalized_df.max(axis = 0)\n",
        "# normalized_df /= max_value\n",
        "# normalized_df = normalized_df.fillna(0)    \n",
        "\n",
        "def add_label(df):\n",
        "    idx = len(df.columns)\n",
        "    new_col = np.where(df['Close'] >= df['Close'].shift(1), 1, 0)  \n",
        "    df.insert(loc=idx, column='Label', value=new_col)\n",
        "    df = df.fillna(0)\n",
        "\n",
        "add_label(normalized_df)    \n"
      ]
    },
    {
      "cell_type": "markdown",
      "metadata": {
        "id": "gAM6j2XS1wGN"
      },
      "source": [
        " # ------------------Price-----------------"
      ]
    },
    {
      "cell_type": "markdown",
      "metadata": {
        "id": "B6lUzewcyt8x"
      },
      "source": [
        "### Creating windows and normalizing the data\n"
      ]
    },
    {
      "cell_type": "code",
      "execution_count": null,
      "metadata": {
        "id": "lbcWIjYs0tjK"
      },
      "outputs": [],
      "source": [
        "# df = normalized_df\n",
        "window_len = 10\n",
        "zoom = 1\n",
        "\n",
        "#Create a data point (i.e. a date) which splits the training and testing set\n",
        "split_date = list(normalized_df.index[-(5*zoom*window_len):])[0] #5\n",
        "split_date_2  = split_date+datetime.timedelta(days = window_len*4*zoom) #4\n",
        "\n",
        "#Split the training and test set\n",
        "training_set, valid_set, test_set = normalized_df[normalized_df.index < split_date], normalized_df[(normalized_df.index >= split_date) & (normalized_df.index < split_date_2)] ,normalized_df[normalized_df.index >= split_date_2]\n",
        "training_set = training_set.drop(['Label'], 1)\n",
        "valid_set = valid_set.drop(['Label'], 1)\n",
        "test_set = test_set.drop(['Label'], 1)\n",
        "\n",
        "#Create windows for training\n",
        "LSTM_training_inputs = []\n",
        "counter = 0\n",
        "for i in range(len(training_set)-window_len):\n",
        "    temp_set = training_set[i:(i+window_len)].copy()\n",
        "    for col in list(temp_set):\n",
        "        if temp_set[col].iloc[0] !=0:\n",
        "            temp_set[col] = temp_set[col]/temp_set[col].iloc[0] - 1\n",
        "    LSTM_training_inputs.append(temp_set)  ## each training dataframe base on window_len x len(columns)\n",
        "\n",
        "LSTM_training_inputs_observe  = LSTM_training_inputs\n",
        "# LSTM_training_outputs = (training_set['Close'][window_len:].values/training_set['Close'][:-window_len].values)-1\n",
        "LSTM_training_outputs = training_set['Close'][window_len:].values\n",
        "LSTM_training_inputs = [np.array(LSTM_training_input) for LSTM_training_input in LSTM_training_inputs] # turn df to array\n",
        "LSTM_training_inputs = np.array(LSTM_training_inputs)\n",
        "\n",
        "#Create windows for valid\n",
        "LSTM_valid_inputs = []\n",
        "for i in range(len(valid_set)-window_len):\n",
        "    temp_set = valid_set[i:(i+window_len)].copy()\n",
        "    for col in list(temp_set):\n",
        "        if temp_set[col].iloc[0] !=0:\n",
        "            temp_set[col] = temp_set[col]/temp_set[col].iloc[0] - 1\n",
        "    LSTM_valid_inputs.append(temp_set)  ## each valid dataframe base on window_len x len(columns)\n",
        "\n",
        "# LSTM_valid_inputs_observe  = LSTM_valid_inputs\n",
        "# LSTM_valid_outputs = (valid_set['Close'][window_len:].values/valid_set['Close'][:-window_len].values)-1\n",
        "LSTM_valid_outputs = valid_set['Close'][window_len:].values\n",
        "LSTM_valid_inputs = [np.array(LSTM_valid_input) for LSTM_valid_input in LSTM_valid_inputs] # turn df to array\n",
        "LSTM_valid_inputs = np.array(LSTM_valid_inputs)\n",
        "\n",
        "#Create windows for testing\n",
        "LSTM_test_inputs = []\n",
        "for i in range(len(test_set)-window_len):\n",
        "    temp_set = test_set[i:(i+window_len)].copy()\n",
        "    for col in list(temp_set):\n",
        "        if temp_set[col].iloc[0] !=0:\n",
        "            temp_set[col] = temp_set[col]/temp_set[col].iloc[0] - 1\n",
        "    LSTM_test_inputs.append(temp_set)\n",
        "\n",
        "LSTM_test_inputs_observe  = LSTM_test_inputs\n",
        "# LSTM_test_outputs = (test_set['Close'][window_len:].values/test_set['Close'][:-window_len].values)-1\n",
        "LSTM_test_outputs = test_set['Close'][window_len:].values\n",
        "LSTM_test_inputs = [np.array(LSTM_test_inputs) for LSTM_test_inputs in LSTM_test_inputs]\n",
        "LSTM_test_inputs = np.array(LSTM_test_inputs)"
      ]
    },
    {
      "cell_type": "code",
      "execution_count": null,
      "metadata": {
        "colab": {
          "base_uri": "https://localhost:8080/",
          "height": 102
        },
        "id": "8NwNvSm-Scwi",
        "outputId": "dc2d51a3-3caa-43a8-ed4a-3d87ec3e427d"
      },
      "outputs": [
        {
          "name": "stdout",
          "output_type": "stream",
          "text": [
            "original data date :  3333 windows 2004-08-19 00:00:00 2017-11-10 00:00:00\n",
            "split date         :  train/valid 2017-09-01 00:00:00 valid/test 2017-10-11 00:00:00\n",
            "training data date :  3283 windows 2004-08-19 00:00:00 2017-08-31 00:00:00\n",
            "valid data date    :  27 windows 2017-09-01 00:00:00 2017-10-10 00:00:00\n",
            "test data date     :  23 windows 2017-10-11 00:00:00 2017-11-10 00:00:00\n"
          ]
        }
      ],
      "source": [
        "print('original data date : ',len(normalized_df.index),'windows',min(normalized_df.index),max(normalized_df.index))\n",
        "print('split date         : ','train/valid',split_date,'valid/test',split_date_2)\n",
        "print('training data date : ',len(training_set.index),'windows',min(training_set.index),max(training_set.index))\n",
        "print('valid data date    : ',len(valid_set.index),'windows',min(valid_set.index),max(valid_set.index))\n",
        "print('test data date     : ',len(test_set.index),'windows',min(test_set.index),max(test_set.index))"
      ]
    },
    {
      "cell_type": "markdown",
      "metadata": {
        "id": "-i8zjN9n1E_F"
      },
      "source": [
        "### LSTM model definition\n"
      ]
    },
    {
      "cell_type": "code",
      "execution_count": null,
      "metadata": {
        "colab": {
          "base_uri": "https://localhost:8080/"
        },
        "id": "Z8rzBXMx38ez",
        "outputId": "af17e0f2-5251-4ade-982f-11791b5e58cb"
      },
      "outputs": [
        {
          "name": "stdout",
          "output_type": "stream",
          "text": [
            "Model: \"sequential\"\n",
            "_________________________________________________________________\n",
            "Layer (type)                 Output Shape              Param #   \n",
            "=================================================================\n",
            "lstm (LSTM)                  (None, 10, 256)           307200    \n",
            "_________________________________________________________________\n",
            "lstm_1 (LSTM)                (None, 10, 256)           525312    \n",
            "_________________________________________________________________\n",
            "time_distributed (TimeDistri (None, 10, 1)             257       \n",
            "_________________________________________________________________\n",
            "flatten (Flatten)            (None, 10)                0         \n",
            "_________________________________________________________________\n",
            "dense_1 (Dense)              (None, 5)                 55        \n",
            "_________________________________________________________________\n",
            "dense_2 (Dense)              (None, 1)                 6         \n",
            "=================================================================\n",
            "Total params: 832,830\n",
            "Trainable params: 832,830\n",
            "Non-trainable params: 0\n",
            "_________________________________________________________________\n"
          ]
        }
      ],
      "source": [
        "def build_model(inputs, output_size, \n",
        "                activ_func=\"linear\",\n",
        "                dropout=0.10, \n",
        "                loss=\"mean_squared_error\", \n",
        "                metrics = ['mean_squared_error'],\n",
        "                optimizer=\"adam\"):\n",
        "    \n",
        "    model = Sequential()\n",
        "    model.add(LSTM(64,return_sequences=True,dropout=0.2,input_shape=(inputs.shape[1], inputs.shape[2])))\n",
        "    model.add(GRU(64,dropout=0.2,recurrent_dropout=0.4,return_sequences=True)    )    \n",
        "    model.add(LSTM(64,dropout=0.2))   \n",
        "    model.add(Dense(units=output_size))\n",
        "    model.add(Activation(activ_func))\n",
        "    model.compile(loss=loss, optimizer=optimizer, metrics=metrics)\n",
        "    return model\n",
        "\n",
        "def build_model(inputs, output_size, \n",
        "                activ_func=\"linear\",\n",
        "                # dropout=0.10, \n",
        "                loss=\"mean_squared_error\", \n",
        "                metrics = ['mean_squared_error'],\n",
        "                optimizer=\"adam\"):\n",
        "    model = Sequential()\n",
        "    model.add(LSTM(256, return_sequences=True, input_shape=(inputs.shape[1], inputs.shape[2])))\n",
        "    model.add(LSTM(256, return_sequences=True))\n",
        "    model.add(TimeDistributed(Dense(1)))\n",
        "    model.add(Flatten())\n",
        "    # model.add(Dropout(dropout))\n",
        "    model.add(Dense(5,activation = activ_func))\n",
        "    model.add(Dense(1))\n",
        "    model.compile(loss=loss, optimizer = optimizer,metrics=metrics)\n",
        "    # model.summary()\n",
        "    return model\n",
        "\n",
        "nn_model = build_model(LSTM_training_inputs, output_size=1)\n",
        "nn_model.summary()"
      ]
    },
    {
      "cell_type": "markdown",
      "metadata": {
        "id": "4TlUzsyT4gw1"
      },
      "source": [
        "### Training of the LSTM model\n"
      ]
    },
    {
      "cell_type": "markdown",
      "metadata": {
        "id": "tNtY7fUD7rop"
      },
      "source": [
        "#### Model Presetting"
      ]
    },
    {
      "cell_type": "code",
      "execution_count": null,
      "metadata": {
        "colab": {
          "base_uri": "https://localhost:8080/"
        },
        "id": "8TQd7DEA7YUp",
        "outputId": "15aca225-0fd6-455c-de1d-8064f3e4966c"
      },
      "outputs": [
        {
          "name": "stdout",
          "output_type": "stream",
          "text": [
            "Use amzn data training \n",
            "\n"
          ]
        }
      ],
      "source": [
        "cont = False\n",
        "epochs = 20\n",
        "\n",
        "model_label = 'amzn_llt'\n",
        "\n",
        "model_name = \"stock_model_{label}.h5\".format(label = model_label)\n",
        "model_folder = f\"drive/My Drive/NCCU/1082_Deep Learning/FinalProject/model\"\n",
        "model_path = os.path.join(model_folder,model_name)\n",
        "\n",
        "history_dataframe = 'stock_model_{}_history.csv'.format(model_label)\n",
        "history_path = os.path.join(model_folder,history_dataframe)\n",
        "\n",
        "print('Use {} data training'.format(stock_name),'\\n')"
      ]
    },
    {
      "cell_type": "markdown",
      "metadata": {
        "id": "Nvh3jWI-7ugO"
      },
      "source": [
        "#### Training Model"
      ]
    },
    {
      "cell_type": "code",
      "execution_count": null,
      "metadata": {
        "colab": {
          "base_uri": "https://localhost:8080/",
          "height": 802
        },
        "id": "UHKYSxlX4g9W",
        "outputId": "07416d5f-8bbe-4fb5-e2db-624e9256bb59"
      },
      "outputs": [
        {
          "name": "stdout",
          "output_type": "stream",
          "text": [
            "Use amzn data training  \n",
            "\n",
            "Epoch 1/20\n",
            "5093/5093 [==============================] - 122s 24ms/step - loss: 282.6351 - mean_squared_error: 282.6351 - val_loss: 442.8464 - val_mean_squared_error: 442.8464\n",
            "Epoch 2/20\n",
            "5093/5093 [==============================] - 117s 23ms/step - loss: 2352.5281 - mean_squared_error: 2352.5281 - val_loss: 3094.5034 - val_mean_squared_error: 3094.5034\n",
            "Epoch 3/20\n",
            "5093/5093 [==============================] - 117s 23ms/step - loss: 2882.6045 - mean_squared_error: 2882.6045 - val_loss: 1171.0078 - val_mean_squared_error: 1171.0078\n",
            "Epoch 4/20\n",
            "5093/5093 [==============================] - 118s 23ms/step - loss: 2640.9236 - mean_squared_error: 2640.9236 - val_loss: 8508.4629 - val_mean_squared_error: 8508.4629\n",
            "Epoch 5/20\n",
            "5093/5093 [==============================] - 116s 23ms/step - loss: 2653.4187 - mean_squared_error: 2653.4187 - val_loss: 4929.8550 - val_mean_squared_error: 4929.8550\n",
            "Epoch 6/20\n",
            "5093/5093 [==============================] - 120s 24ms/step - loss: 2724.0938 - mean_squared_error: 2724.0938 - val_loss: 10159.7832 - val_mean_squared_error: 10159.7832\n",
            "Epoch 7/20\n",
            "5093/5093 [==============================] - 122s 24ms/step - loss: 2736.3401 - mean_squared_error: 2736.3401 - val_loss: 13182.1904 - val_mean_squared_error: 13182.1904\n",
            "Epoch 8/20\n",
            "5093/5093 [==============================] - 122s 24ms/step - loss: 2920.0542 - mean_squared_error: 2920.0542 - val_loss: 8721.0449 - val_mean_squared_error: 8721.0449\n",
            "Epoch 9/20\n",
            "5093/5093 [==============================] - 123s 24ms/step - loss: 2641.8835 - mean_squared_error: 2641.8835 - val_loss: 8072.4023 - val_mean_squared_error: 8072.4023\n",
            "Epoch 10/20\n",
            "5093/5093 [==============================] - 122s 24ms/step - loss: 2336.0352 - mean_squared_error: 2336.0352 - val_loss: 7506.0132 - val_mean_squared_error: 7506.0132\n",
            "Epoch 11/20\n",
            "5093/5093 [==============================] - 123s 24ms/step - loss: 2363.4915 - mean_squared_error: 2363.4915 - val_loss: 10014.1143 - val_mean_squared_error: 10014.1143\n",
            "Epoch 12/20\n",
            "5093/5093 [==============================] - 122s 24ms/step - loss: 2039.1040 - mean_squared_error: 2039.1040 - val_loss: 9340.0742 - val_mean_squared_error: 9340.0742\n",
            "Epoch 13/20\n",
            "5093/5093 [==============================] - 122s 24ms/step - loss: 1971.9733 - mean_squared_error: 1971.9733 - val_loss: 4113.7319 - val_mean_squared_error: 4113.7319\n",
            "Epoch 14/20\n",
            "5093/5093 [==============================] - 123s 24ms/step - loss: 1767.5896 - mean_squared_error: 1767.5896 - val_loss: 2184.5132 - val_mean_squared_error: 2184.5132\n",
            "Epoch 15/20\n",
            "5093/5093 [==============================] - 121s 24ms/step - loss: 1427.7164 - mean_squared_error: 1427.7164 - val_loss: 11920.1426 - val_mean_squared_error: 11920.1426\n",
            "Epoch 16/20\n",
            "5093/5093 [==============================] - 121s 24ms/step - loss: 1799.9401 - mean_squared_error: 1799.9401 - val_loss: 9571.6289 - val_mean_squared_error: 9571.6289\n",
            "Epoch 17/20\n",
            "5093/5093 [==============================] - 120s 23ms/step - loss: 1328.3101 - mean_squared_error: 1328.3101 - val_loss: 9344.0615 - val_mean_squared_error: 9344.0615\n",
            "Epoch 18/20\n",
            "5093/5093 [==============================] - 120s 24ms/step - loss: 1751.8873 - mean_squared_error: 1751.8873 - val_loss: 19421.6445 - val_mean_squared_error: 19421.6445\n",
            "Epoch 19/20\n",
            "5093/5093 [==============================] - 122s 24ms/step - loss: 1636.3818 - mean_squared_error: 1636.3818 - val_loss: 11179.6641 - val_mean_squared_error: 11179.6641\n",
            "Epoch 20/20\n",
            "5093/5093 [==============================] - 121s 24ms/step - loss: 1933.0791 - mean_squared_error: 1933.0791 - val_loss: 19709.8750 - val_mean_squared_error: 19709.8750\n",
            "\n",
            "model will save to :  drive/My Drive/NCCU/1082_Deep Learning/FinalProject/model/stock_model_amzn_llt.h5\n",
            "history will save to :  drive/My Drive/NCCU/1082_Deep Learning/FinalProject/model/stock_model_amzn_llt_history.csv\n"
          ]
        }
      ],
      "source": [
        "print('Use {} data training '.format(stock_name),'\\n')\n",
        "\n",
        "if cont == True:\n",
        "    nn_model = tf.keras.models.load_model(model_path)\n",
        "# initialise model architecture \n",
        "# model output is next price normalised to 10th previous closing price\n",
        "history = nn_model.fit(LSTM_training_inputs, LSTM_training_outputs, \n",
        "                       validation_data = (LSTM_valid_inputs, LSTM_valid_outputs),\n",
        "                       epochs=epochs, batch_size=1, verbose=1, shuffle=False)\n",
        "\n",
        "tf.keras.models.save_model(nn_model, model_path)\n",
        "\n",
        "history_dataframe = 'stock_model_{}_history.csv'.format(model_label)\n",
        "history_path = os.path.join(model_folder,history_dataframe)\n",
        "\n",
        "if cont:\n",
        "    train_history = pd.DataFrame(history.history)\n",
        "    train_history['Train_Stock'] = stock_name\n",
        "    history_dataframe = pd.read_csv(history_path)\n",
        "    history_dataframe = pd.concat([history_dataframe,train_history])\n",
        "    history_dataframe = history_dataframe.reset_index(drop=True)\n",
        "    history_dataframe.to_csv(history_path, index= False)\n",
        "else:\n",
        "    train_history = pd.DataFrame(history.history)\n",
        "    history_dataframe = train_history\n",
        "    history_dataframe['Train_Stock'] = stock_name\n",
        "    history_dataframe.to_csv(history_path, index= False)\n",
        "print()\n",
        "print('model will save to : ', model_path)\n",
        "print('history will save to : ', history_path)\n"
      ]
    },
    {
      "cell_type": "code",
      "execution_count": null,
      "metadata": {
        "id": "xnIRz_4PRTbn"
      },
      "outputs": [],
      "source": [
        "model_history = pd.read_csv(history_path)\n",
        "model_history"
      ]
    },
    {
      "cell_type": "markdown",
      "metadata": {
        "id": "3KZfy0Zy7pwu"
      },
      "source": [
        "### Predict Model"
      ]
    },
    {
      "cell_type": "code",
      "execution_count": null,
      "metadata": {
        "colab": {
          "base_uri": "https://localhost:8080/",
          "height": 556
        },
        "id": "TEyS4dIt4vxc",
        "outputId": "62ada1cb-6236-42ac-d1fe-3e975aaaf1f3"
      },
      "outputs": [
        {
          "name": "stdout",
          "output_type": "stream",
          "text": [
            "Use amzn data testing  \n",
            "\n"
          ]
        },
        {
          "data": {
            "text/plain": [
              "<matplotlib.legend.Legend at 0x7fb7d93c3710>"
            ]
          },
          "execution_count": 10,
          "metadata": {
            "tags": []
          },
          "output_type": "execute_result"
        },
        {
          "data": {
            "image/png": "[encoded data removed]",
            "text/plain": [
              "<Figure size 1152x576 with 1 Axes>"
            ]
          },
          "metadata": {
            "tags": []
          },
          "output_type": "display_data"
        }
      ],
      "source": [
        "model_history = pd.read_csv(history_path)\n",
        "\n",
        "print('Use {} data testing '.format(stock_name),'\\n')\n",
        "\n",
        "sns.set_style(\"dark\")\n",
        "fig, ax = plt.subplots(1,1,figsize=(16,8))\n",
        "for col in model_history.columns:\n",
        "    if 'mean_squared_error' in col:\n",
        "        ax = sns.lineplot(x=model_history.index , y=col ,data=model_history)\n",
        "\n",
        "ax.set_title('{} model mse'.format(stock_name))\n",
        "ax.set_xlabel ('epoch')\n",
        "ax.set_ylabel ('mse')\n",
        "ax.legend(['train', 'valid'], loc='upper left')\n"
      ]
    },
    {
      "cell_type": "code",
      "execution_count": null,
      "metadata": {
        "colab": {
          "base_uri": "https://localhost:8080/",
          "height": 542
        },
        "id": "yHMg3-5oTmCF",
        "outputId": "09b4b13d-4495-4dea-b455-b03c6f32c278"
      },
      "outputs": [
        {
          "name": "stdout",
          "output_type": "stream",
          "text": [
            "drive/My Drive/NCCU/1082_Deep Learning/FinalProject/model/stock_model_amzn_llt.h5\n",
            "predict days 13\n"
          ]
        },
        {
          "data": {
            "image/png": "[encoded data removed]",
            "text/plain": [
              "<Figure size 1152x576 with 1 Axes>"
            ]
          },
          "metadata": {
            "tags": []
          },
          "output_type": "display_data"
        }
      ],
      "source": [
        "nn_model = tf.keras.models.load_model(model_path)\n",
        "print(model_path)\n",
        "size = len(LSTM_test_outputs)\n",
        "print('predict days',size)\n",
        "predict = nn_model.predict(LSTM_test_inputs)\n",
        "plt.figure(figsize=(16,8))\n",
        "plt.plot(techindi.index[-size*2:-size+1], techindi['Close'].iloc[-size*2:-size+1], color='green', label = 'Stock Price')\n",
        "plt.plot(techindi.index[-size:], LSTM_test_outputs, color = 'red', label = 'Real Stock Price')\n",
        "plt.plot(techindi.index[-size:], predict, color = 'blue', label = 'Predicted Stock Price')\n",
        "plt.title('{} Stock Price Prediction'.format(stock_name))\n",
        "plt.xlabel('Time')\n",
        "plt.ylabel('{} Stock Price'.format(stock_name))\n",
        "plt.legend()\n",
        "plt.grid(True)\n",
        "# plt.savefig('lstm_30.pdf')\n",
        "plt.show()"
      ]
    },
    {
      "cell_type": "markdown",
      "metadata": {
        "id": "Ey4H6xBN1Odn"
      },
      "source": [
        " # ------------------Trend-----------------"
      ]
    },
    {
      "cell_type": "markdown",
      "metadata": {
        "id": "HCwDlO2mC9to"
      },
      "source": [
        "### Generator yielding timeseries samples and targets\n",
        "Preparing the training, validation and test generators"
      ]
    },
    {
      "cell_type": "code",
      "execution_count": null,
      "metadata": {
        "id": "XTH1iAgYsGXD"
      },
      "outputs": [],
      "source": [
        "def generator(data, lookback, delay, min_index, max_index,\n",
        "              shuffle=False, batch_size=32, step=5):\n",
        "    if max_index is None:\n",
        "        max_index = len(data) - delay - 1\n",
        "    i = min_index + lookback\n",
        "    while 1:\n",
        "        if shuffle:\n",
        "            rows = np.random.randint(\n",
        "                min_index + lookback, max_index, size=batch_size)\n",
        "        else:\n",
        "            if i + batch_size >= max_index:\n",
        "                i = min_index + lookback\n",
        "            rows = np.arange(i, min(i + batch_size, max_index))\n",
        "            i += len(rows)\n",
        "        samples = np.zeros((len(rows),\n",
        "                           lookback // step,\n",
        "                           data.shape[-1]))\n",
        "        targets = np.zeros((len(rows),))\n",
        "        for j, row in enumerate(rows):\n",
        "            indices = range(rows[j] - lookback, rows[j], step)\n",
        "            samples[j] = data[indices]\n",
        "            targets[j] = data[rows[j] + delay][-1]\n",
        "        yield samples, to_categorical(targets)"
      ]
    },
    {
      "cell_type": "markdown",
      "metadata": {
        "id": "c9afXRSZDK83"
      },
      "source": [
        "### Techindi X generator\n"
      ]
    },
    {
      "cell_type": "code",
      "execution_count": null,
      "metadata": {
        "id": "WoGlcrnoC6xz"
      },
      "outputs": [],
      "source": [
        "df_data = normalized_df.values\n",
        "\n",
        "lookback = 5\n",
        "step = 5\n",
        "delay = 5\n",
        "batch_size = 32\n",
        "\n",
        "train_gen = generator(df_data,\n",
        "                      lookback=lookback,\n",
        "                      delay=delay,\n",
        "                      min_index=0,\n",
        "                      max_index=round(0.6*len(df_data)),\n",
        "                      shuffle=False,\n",
        "                      step=step,\n",
        "                      batch_size=batch_size)\n",
        "val_gen = generator(df_data,\n",
        "                    lookback=lookback,\n",
        "                    delay=delay,\n",
        "                    min_index=round(0.6*len(df_data))+1,\n",
        "                    max_index=round(0.8*len(df_data)),\n",
        "                    step=step,\n",
        "                    batch_size=batch_size)\n",
        "test_gen = generator(df_data,\n",
        "                     lookback=lookback,\n",
        "                     delay=delay,\n",
        "                     min_index=round(0.8*len(df_data))+1,\n",
        "                     max_index=None,\n",
        "                     step=step,\n",
        "                     batch_size=batch_size)\n",
        "\n",
        "val_steps = (round(0.8*len(df_data)) - round(0.6*len(df_data))+1 - lookback) # how many steps to draw from val_gen in order to see the entire validation set\n",
        "test_steps = (len(df_data) - round(0.8*len(df_data))+1 - lookback)\n",
        "\n"
      ]
    },
    {
      "cell_type": "markdown",
      "metadata": {
        "id": "delx3ztwlPV3"
      },
      "source": [
        "### Dropout-regularized GRU-based model"
      ]
    },
    {
      "cell_type": "code",
      "execution_count": null,
      "metadata": {
        "colab": {
          "base_uri": "https://localhost:8080/",
          "height": 323
        },
        "id": "bEI7KY9LlVZs",
        "outputId": "eda9b783-e00c-4cf5-bbae-3a23c2cc66d8"
      },
      "outputs": [
        {
          "name": "stdout",
          "output_type": "stream",
          "text": [
            "Model: \"sequential_14\"\n",
            "_________________________________________________________________\n",
            "Layer (type)                 Output Shape              Param #   \n",
            "=================================================================\n",
            "lstm_20 (LSTM)               (None, None, 256)         307200    \n",
            "_________________________________________________________________\n",
            "lstm_21 (LSTM)               (None, 256)               525312    \n",
            "_________________________________________________________________\n",
            "flatten_8 (Flatten)          (None, 256)               0         \n",
            "_________________________________________________________________\n",
            "dropout_8 (Dropout)          (None, 256)               0         \n",
            "_________________________________________________________________\n",
            "dense_16 (Dense)             (None, 2)                 514       \n",
            "=================================================================\n",
            "Total params: 833,026\n",
            "Trainable params: 833,026\n",
            "Non-trainable params: 0\n",
            "_________________________________________________________________\n"
          ]
        }
      ],
      "source": [
        "def build_model(inputs,  \n",
        "                activ_func=\"softmax\",\n",
        "                dropout=0.10, \n",
        "                loss=\"categorical_crossentropy\", \n",
        "                metrics = ['accuracy'],\n",
        "                optimizer=RMSprop()): \n",
        "    model = Sequential()\n",
        "    model.add(LSTM(256, return_sequences=True, input_shape=(None, inputs.shape[-1])))\n",
        "    model.add(LSTM(256))\n",
        "    model.add(Flatten())\n",
        "    model.add(Dropout(dropout))\n",
        "    model.add(layers.Dense(2, activation=activ_func))\n",
        "    model.compile(loss=loss, optimizer = optimizer,metrics=metrics)\n",
        "    # model.summary()\n",
        "    return model\n",
        "\n",
        "model = build_model(LSTM_training_inputs)\n",
        "model.summary()\n",
        "\n",
        "model = Sequential()\n",
        "model.add(layers.LSTM(128,dropout=0.1,return_sequences=True,input_shape=(None, df_data.shape[-1])))\n",
        "model.add(layers.LSTM(128,dropout=0.1))\n",
        "model.add(layers.Dense(2, activation='softmax'))\n",
        "model.compile(optimizer=\"adam\", loss='categorical_crossentropy', metrics=['accuracy'])"
      ]
    },
    {
      "cell_type": "code",
      "execution_count": null,
      "metadata": {
        "colab": {
          "base_uri": "https://localhost:8080/",
          "height": 391
        },
        "id": "Ft8HJkPEldMY",
        "outputId": "ab49ac4d-e2a1-4c06-f78e-8a9b12a03f25"
      },
      "outputs": [
        {
          "name": "stdout",
          "output_type": "stream",
          "text": [
            "Epoch 1/10\n",
            "2/2 [==============================] - 2s 1s/step - loss: 0.6994 - accuracy: 0.4219 - val_loss: 0.6914 - val_accuracy: 0.5662\n",
            "Epoch 2/10\n",
            "2/2 [==============================] - 1s 670ms/step - loss: 0.6863 - accuracy: 0.6250 - val_loss: 0.6908 - val_accuracy: 0.5647\n",
            "Epoch 3/10\n",
            "2/2 [==============================] - 1s 677ms/step - loss: 0.6878 - accuracy: 0.5781 - val_loss: 0.6915 - val_accuracy: 0.5123\n",
            "Epoch 4/10\n",
            "2/2 [==============================] - 1s 667ms/step - loss: 0.7435 - accuracy: 0.2344 - val_loss: 0.6903 - val_accuracy: 0.4962\n",
            "Epoch 5/10\n",
            "2/2 [==============================] - 1s 668ms/step - loss: 1.0488 - accuracy: 0.5000 - val_loss: 0.6894 - val_accuracy: 0.5485\n",
            "Epoch 6/10\n",
            "2/2 [==============================] - 1s 686ms/step - loss: 0.6938 - accuracy: 0.4844 - val_loss: 0.6879 - val_accuracy: 0.5798\n",
            "Epoch 7/10\n",
            "2/2 [==============================] - 1s 670ms/step - loss: 0.7031 - accuracy: 0.4688 - val_loss: 0.6910 - val_accuracy: 0.5275\n",
            "Epoch 8/10\n",
            "2/2 [==============================] - 1s 666ms/step - loss: 0.7021 - accuracy: 0.5000 - val_loss: 0.6940 - val_accuracy: 0.5252\n",
            "Epoch 9/10\n",
            "2/2 [==============================] - 1s 672ms/step - loss: 0.7068 - accuracy: 0.4219 - val_loss: 0.6962 - val_accuracy: 0.5223\n",
            "Epoch 10/10\n",
            "2/2 [==============================] - 1s 668ms/step - loss: 0.7325 - accuracy: 0.3438 - val_loss: 0.6942 - val_accuracy: 0.5189\n",
            "test acc: 0.3958333432674408\n",
            "test_loss: 0.7237069606781006\n"
          ]
        }
      ],
      "source": [
        "history = model.fit(train_gen,\n",
        "                    steps_per_epoch=2,\n",
        "                    epochs=10,\n",
        "                    validation_data=val_gen,\n",
        "                    validation_steps=val_steps)\n",
        "test_loss, test_acc = model.evaluate_generator(test_gen, steps=3)\n",
        "print('test acc:', test_acc)\n",
        "print(\"test_loss:\", test_loss)"
      ]
    },
    {
      "cell_type": "code",
      "execution_count": null,
      "metadata": {
        "colab": {
          "base_uri": "https://localhost:8080/",
          "height": 281
        },
        "id": "gRit0fuplhJT",
        "outputId": "175dfba5-23fe-4033-a9ec-ee630d7c4103"
      },
      "outputs": [
        {
          "data": {
            "image/png": "[encoded data removed]",
            "text/plain": [
              "<Figure size 432x288 with 1 Axes>"
            ]
          },
          "metadata": {
            "tags": []
          },
          "output_type": "display_data"
        }
      ],
      "source": [
        "loss = history.history['loss']\n",
        "val_loss = history.history['val_loss']\n",
        "epochs = range(1, len(loss) + 1)\n",
        "plt.figure()\n",
        "plt.plot(epochs, loss, 'r', label='Training loss')\n",
        "plt.plot(epochs, val_loss, 'b', label='Validation loss')\n",
        "plt.title('Training and validation loss')\n",
        "plt.legend()\n",
        "plt.show()"
      ]
    },
    {
      "cell_type": "code",
      "execution_count": null,
      "metadata": {
        "colab": {
          "base_uri": "https://localhost:8080/",
          "height": 295
        },
        "id": "wuAWJPxhlhoN",
        "outputId": "e2cc904b-de6e-40be-f6e2-5f6852a4301c"
      },
      "outputs": [
        {
          "data": {
            "image/png": "[encoded data removed]",
            "text/plain": [
              "<Figure size 432x288 with 1 Axes>"
            ]
          },
          "metadata": {
            "tags": []
          },
          "output_type": "display_data"
        }
      ],
      "source": [
        "acc = history.history['accuracy']\n",
        "val_acc = history.history['val_accuracy']\n",
        "plt.plot(epochs, acc, 'r', label='Training acc')\n",
        "plt.plot(epochs, val_acc, 'b', label='Validation acc')\n",
        "plt.title('Training and validation accuracy')\n",
        "plt.xlabel('Epochs')\n",
        "plt.ylabel('Loss')\n",
        "plt.legend()\n",
        "plt.show()"
      ]
    },
    {
      "cell_type": "markdown",
      "metadata": {
        "id": "44vDrODH2D-Z"
      },
      "source": [
        " # ------------------Price 2-----------------"
      ]
    },
    {
      "cell_type": "code",
      "execution_count": null,
      "metadata": {
        "id": "xVg3UQTH2Mb6"
      },
      "outputs": [],
      "source": [
        "def normalize(df):\n",
        "    norm = df.apply(lambda x: (x - np.min(x)) / (np.max(x) - np.min(x)))\n",
        "    return norm\n",
        "\n",
        "def train_windows(df, ref_day=5, predict_day=1):\n",
        "    X_train, Y_train = [], []\n",
        "    for i in range(df.shape[0]-predict_day-ref_day):\n",
        "        X_train.append(np.array(df.iloc[i:i+ref_day,:-1]))\n",
        "        Y_train.append(np.array(df.iloc[i+ref_day:i+ref_day+predict_day][\"y\"]))\n",
        "    return np.array(X_train), np.array(Y_train)\n",
        "\n",
        "def lstm_stock_model(shape):\n",
        "    model = Sequential()\n",
        "    model.add(LSTM(256, input_shape=(shape[1], shape[2]), return_sequences=True))\n",
        "    model.add(LSTM(256, return_sequences=True))\n",
        "    model.add(TimeDistributed(Dense(1)))\n",
        "    model.add(Flatten())\n",
        "    model.add(Dense(5,activation='linear'))\n",
        "    model.add(Dense(1,activation='linear'))\n",
        "    model.compile(loss=\"mean_absolute_error\", optimizer=\"adam\",metrics=['mean_absolute_error'])\n",
        "    model.summary()\n",
        "    return model\n",
        "\n",
        "def build_model(trainX, trainy):\n",
        "    verbose, epochs, batch_size = 0, 10, 32\n",
        "    model = Sequential()\n",
        "    model.add(Conv1D(filters=64, kernel_size=3, activation='relu', input_shape=(trainX.shape[1],trainX.shape[2])))\n",
        "    model.add(Conv1D(filters=64, kernel_size=3, activation='relu'))\n",
        "    model.add(Dropout(0.5))\n",
        "    model.add(MaxPooling1D(pool_size=2))\n",
        "    model.add(Flatten())\n",
        "    model.add(Dense(100, activation='relu'))\n",
        "    model.add(Dense(trainy.shape[1], activation='softmax'))\n",
        "    model.compile(loss='categorical_crossentropy', optimizer='adam', metrics=['accuracy'])\n",
        "    return model    "
      ]
    },
    {
      "cell_type": "code",
      "execution_count": null,
      "metadata": {
        "colab": {
          "base_uri": "https://localhost:8080/",
          "height": 357
        },
        "id": "1jVt3dTT3Txe",
        "outputId": "51ba6bef-6795-46e9-e0b8-8cb31126768f"
      },
      "outputs": [
        {
          "name": "stdout",
          "output_type": "stream",
          "text": [
            "Model: \"sequential\"\n",
            "_________________________________________________________________\n",
            "Layer (type)                 Output Shape              Param #   \n",
            "=================================================================\n",
            "lstm (LSTM)                  (None, 15, 256)           304128    \n",
            "_________________________________________________________________\n",
            "lstm_1 (LSTM)                (None, 15, 256)           525312    \n",
            "_________________________________________________________________\n",
            "time_distributed (TimeDistri (None, 15, 1)             257       \n",
            "_________________________________________________________________\n",
            "flatten (Flatten)            (None, 15)                0         \n",
            "_________________________________________________________________\n",
            "dense_1 (Dense)              (None, 5)                 80        \n",
            "_________________________________________________________________\n",
            "dense_2 (Dense)              (None, 1)                 6         \n",
            "=================================================================\n",
            "Total params: 829,783\n",
            "Trainable params: 829,783\n",
            "Non-trainable params: 0\n",
            "_________________________________________________________________\n"
          ]
        }
      ],
      "source": [
        "train = techindi.dropna()\n",
        "train['y'] = train['Close'].shift(-1)\n",
        "train.iloc[:,:-1] = normalize(train.iloc[:,:-1])\n",
        "\n",
        "train['Date'] = train.index\n",
        "# train.reset_index(drop=True)\n",
        "train['Date'] = pd.to_datetime(train['Date'], format='%Y%m%d')\n",
        "train['weekday'] = train['Date'].apply(lambda x: x.day)\n",
        "train['year'] = train['Date'].apply(lambda x: x.year)\n",
        "train['Month'] = train['Date'].apply(lambda x: x.month)\n",
        "test = train[-30:]\n",
        "train = train[(train['year']==2017)|((train['year']==2018)&(train['Month']<=3))|((train['year']==2018)&(train['Month']==4)&(train['weekday']<=27))]\n",
        "#train & test\n",
        "train = train.reset_index(drop=True)\n",
        "test = test.reset_index(drop=True)\n",
        "train = train.dropna()\n",
        "\n",
        "train.drop(['High','Low','Open','Date','weekday','year','Month'], axis=1, inplace=True)\n",
        "test.drop(['Date','High','Low','Open','weekday','year','Month'], axis=1, inplace=True)\n",
        "X_train, Y_train = train_windows(train, 15, 1)\n",
        "X_test, Y_test = train_windows(test, 15, 1)\n",
        "model = lstm_stock_model(X_train.shape)\n",
        "# callback = EarlyStopping(monitor=\"mean_absolute_error\", patience=10, verbose=1, mode=\"auto\")\n",
        "\n"
      ]
    },
    {
      "cell_type": "code",
      "execution_count": null,
      "metadata": {
        "colab": {
          "base_uri": "https://localhost:8080/",
          "height": 1000
        },
        "id": "gr8lEb0qDtCo",
        "outputId": "4ef9f456-1f98-4ea6-9db0-c629cf19aee8"
      },
      "outputs": [
        {
          "data": {
            "text/plain": [
              "array([[0.72489695, 0.02322675, 0.48570677, 0.02322675, 0.72405182,\n",
              "        0.68670484, 0.76401266, 0.64583333, 0.44185693, 0.72405135,\n",
              "        0.72149008, 0.72899793, 0.49882129, 0.29199553, 0.46542823,\n",
              "        0.72489695, 0.29080684, 0.85633371, 0.44947686, 0.52528581,\n",
              "        0.91222577, 0.7257455 , 0.72822125, 0.73078596, 0.39464841,\n",
              "        0.0549027 , 0.09486064, 0.27710298, 0.20909721, 0.60200297,\n",
              "        0.50147467, 0.68740691, 0.72408534, 0.74141499, 0.76778698,\n",
              "        0.77821048, 0.54998405, 0.0821268 , 0.0501518 , 0.73661985],\n",
              "       [0.72279259, 0.05528995, 0.58273819, 0.05528995, 0.72479588,\n",
              "        0.68816632, 0.76394314, 0.64583333, 0.44527505, 0.72479588,\n",
              "        0.72317058, 0.72806778, 0.91149653, 0.5890795 , 0.45726544,\n",
              "        0.72279259, 0.2881004 , 0.857222  , 0.44165959, 0.66783677,\n",
              "        0.9100198 , 0.72676939, 0.72898556, 0.73128137, 0.39181685,\n",
              "        0.05369327, 0.25242109, 0.24015592, 0.21478001, 0.60094843,\n",
              "        0.50199735, 0.68848682, 0.72408534, 0.74527045, 0.76778698,\n",
              "        0.77673193, 0.51166351, 0.0821268 , 0.05528995, 0.735909  ],\n",
              "       [0.6898244 , 0.05552656, 0.62215597, 0.05552656, 0.72600664,\n",
              "        0.69160372, 0.76262813, 0.64583333, 0.44075307, 0.72600616,\n",
              "        0.72508178, 0.72857264, 0.83959279, 0.79721407, 0.45919193,\n",
              "        0.6898244 , 0.26313014, 0.85813713, 0.27223066, 0.6495143 ,\n",
              "        0.90780438, 0.72860025, 0.73002337, 0.73149764, 0.36434053,\n",
              "        0.05632178, 0.34626972, 0.20813513, 0.24637173, 0.56145786,\n",
              "        0.50128371, 0.69615417, 0.7321786 , 0.74760459, 0.76778698,\n",
              "        0.77531253, 0.17324944, 0.0821268 , 0.05552656, 0.7353643 ],\n",
              "       [0.69078078, 0.03258203, 0.57279692, 0.03258203, 0.72740672,\n",
              "        0.69472338, 0.76207794, 0.97916667, 0.43977196, 0.72740672,\n",
              "        0.72648373, 0.7297487 , 0.74046281, 0.89438991, 0.45320991,\n",
              "        0.69078078, 0.26355799, 0.85868004, 0.2852569 , 0.71674777,\n",
              "        0.90910435, 0.73010604, 0.7316321 , 0.73321301, 0.35181898,\n",
              "        0.06267073, 0.31577402, 0.18038378, 0.27642138, 0.53087612,\n",
              "        0.57255429, 0.69720439, 0.73329107, 0.75061083, 0.76778698,\n",
              "        0.77394989, 0.17954919, 0.0821268 , 0.05552656, 0.73481128],\n",
              "       [0.69274156, 0.02394281, 0.61075791, 0.02394281, 0.72869605,\n",
              "        0.69724402, 0.76196911, 1.        , 0.4418395 , 0.72869605,\n",
              "        0.72807132, 0.73059698, 0.63671067, 0.78388511, 0.45896478,\n",
              "        0.69274156, 0.26395556, 0.85907723, 0.30723773, 0.67167813,\n",
              "        0.91005963, 0.73100544, 0.73294636, 0.73495703, 0.3471318 ,\n",
              "        0.06751513, 0.27367082, 0.17836349, 0.29542241, 0.50876477,\n",
              "        0.50119736, 0.69720439, 0.73329107, 0.74585035, 0.76778698,\n",
              "        0.77264177, 0.19246507, 0.0821268 , 0.05552656, 0.72366335],\n",
              "       [0.69462391, 0.02774307, 0.6022584 , 0.02774307, 0.73053727,\n",
              "        0.70010556, 0.76264929, 0.97916667, 0.44227028, 0.73053727,\n",
              "        0.72958202, 0.73216393, 0.71486299, 0.73372518, 0.45918524,\n",
              "        0.69462391, 0.26433571, 0.85953789, 0.32810497, 0.67312071,\n",
              "        0.91116653, 0.73224351, 0.7339818 , 0.73578256, 0.34620744,\n",
              "        0.07186892, 0.24591667, 0.15458169, 0.31386281, 0.49345257,\n",
              "        0.50190103, 0.69720439, 0.73581724, 0.74511031, 0.76778698,\n",
              "        0.74124673, 0.20486431, 0.0821268 , 0.05552656, 0.71805219],\n",
              "       [0.69643097, 0.04589441, 0.58459108, 0.04589441, 0.73239742,\n",
              "        0.70427014, 0.76189454, 0.58333333, 0.44349484, 0.73239742,\n",
              "        0.7304796 , 0.7345793 , 0.9462242 , 0.81647187, 0.46986081,\n",
              "        0.69643097, 0.24320333, 0.86031322, 0.51012582, 0.76473177,\n",
              "        0.91299764, 0.7345394 , 0.73570039, 0.73690309, 0.34709566,\n",
              "        0.07883245, 0.29059898, 0.1339708 , 0.34545197, 0.48355623,\n",
              "        0.57350625, 0.70276412, 0.74442337, 0.73761777, 0.76778698,\n",
              "        0.74198521, 0.2086732 , 0.0821268 , 0.05552656, 0.71513926],\n",
              "       [0.69971831, 0.03460894, 0.54764038, 0.03460894, 0.73468924,\n",
              "        0.70861185, 0.76185827, 0.64583333, 0.44056047, 0.73468924,\n",
              "        0.73161205, 0.73773651, 0.78854189, 0.8775306 , 0.47524409,\n",
              "        0.69971831, 0.24588361, 0.86090577, 0.52232656, 0.79745635,\n",
              "        0.91437848, 0.73690288, 0.73796587, 0.73906706, 0.35000691,\n",
              "        0.08672847, 0.28787841, 0.11610803, 0.3788093 , 0.47969895,\n",
              "        0.64500374, 0.70614783, 0.74800766, 0.73624689, 0.76778698,\n",
              "        0.74270892, 0.22090489, 0.0821268 , 0.05552656, 0.71412836],\n",
              "       [0.70439445, 0.03413255, 0.53150047, 0.03413255, 0.73699526,\n",
              "        0.71167365, 0.76330125, 0.66666667, 0.44101464, 0.73699526,\n",
              "        0.73409257, 0.73949969, 0.56455969, 0.81708632, 0.47920441,\n",
              "        0.70439445, 0.24951705, 0.86148453, 0.53653929, 0.72492964,\n",
              "        0.91574031, 0.73863925, 0.73945822, 0.74030662, 0.35500712,\n",
              "        0.09387929, 0.24949462, 0.15632295, 0.38630687, 0.48219616,\n",
              "        0.57287133, 0.70907258, 0.74800766, 0.73624689, 0.76778698,\n",
              "        0.74341815, 0.24342819, 0.10195639, 0.05552656, 0.71414574],\n",
              "       [0.7086965 , 0.02159154, 0.56090536, 0.02159154, 0.73934862,\n",
              "        0.71419874, 0.76545162, 0.66666667, 0.44250821, 0.73934814,\n",
              "        0.73587407, 0.74234161, 0.46972995, 0.62546475, 0.48634734,\n",
              "        0.7086965 , 0.25289035, 0.86184971, 0.54920448, 0.70493454,\n",
              "        0.91660178, 0.73949645, 0.74073678, 0.74202169, 0.36081675,\n",
              "        0.09603439, 0.21622867, 0.13547989, 0.39280477, 0.48921817,\n",
              "        0.57360859, 0.71179755, 0.74800766, 0.73183337, 0.76778698,\n",
              "        0.7448821 , 0.26414962, 0.09477843, 0.05552656, 0.71445424],\n",
              "       [0.71265438, 0.02396537, 0.56400041, 0.02396537, 0.74138579,\n",
              "        0.71661792, 0.76704978, 0.66666667, 0.4422012 , 0.74138532,\n",
              "        0.7370789 , 0.74566392, 0.47361153, 0.49881589, 0.48804248,\n",
              "        0.71265438, 0.25602351, 0.86225636, 0.56046235, 0.7121962 ,\n",
              "        0.91755796, 0.74042422, 0.74190541, 0.74343983, 0.36680784,\n",
              "        0.09934003, 0.19470811, 0.1174159 , 0.4004872 , 0.4993139 ,\n",
              "        0.57428023, 0.71999766, 0.74800766, 0.73105451, 0.76778698,\n",
              "        0.74711591, 0.28321334, 0.09477843, 0.05552656, 0.71475554],\n",
              "       [0.71629564, 0.030918  , 0.61788161, 0.030918  , 0.74314181,\n",
              "        0.71871401, 0.76841618, 0.66666667, 0.44182973, 0.74314181,\n",
              "        0.73925538, 0.74726729, 0.54268369, 0.49001849, 0.48161837,\n",
              "        0.71629564, 0.25957842, 0.86278145, 0.56231481, 0.70282169,\n",
              "        0.91879153, 0.74188204, 0.74357817, 0.74533526, 0.37267638,\n",
              "        0.10095703, 0.17883827, 0.10176045, 0.41019112, 0.51134275,\n",
              "        0.64591136, 0.72496074, 0.74800766, 0.73105451, 0.76778698,\n",
              "        0.75070652, 0.30075197, 0.09477843, 0.05552656, 0.71495211],\n",
              "       [0.71964559, 0.02515459, 0.76654798, 0.02515459, 0.74537967,\n",
              "        0.72159424, 0.76991963, 0.66666667, 0.44265305, 0.74537967,\n",
              "        0.74213293, 0.74844141, 0.94509969, 0.68118783, 0.47704142,\n",
              "        0.71964559, 0.26343247, 0.86320898, 0.55537328, 0.69495387,\n",
              "        0.91979516, 0.74368223, 0.74579671, 0.74798717, 0.37828118,\n",
              "        0.10049757, 0.16496284, 0.08819239, 0.42177838, 0.52441787,\n",
              "        0.71684535, 0.72496074, 0.74800766, 0.73315815, 0.76778698,\n",
              "        0.75487727, 0.3168875 , 0.09477843, 0.05552656, 0.72151515],\n",
              "       [0.72272755, 0.02782427, 0.76847941, 0.02782427, 0.74803879,\n",
              "        0.72471122, 0.77205186, 0.66666667, 0.44168768, 0.74803879,\n",
              "        0.74465297, 0.75085774, 0.87610386, 0.84304963, 0.47724633,\n",
              "        0.72272755, 0.26703038, 0.86368675, 0.54898707, 0.72684181,\n",
              "        0.9209053 , 0.74640459, 0.7486736 , 0.75102413, 0.38356307,\n",
              "        0.10038197, 0.1649691 , 0.0764334 , 0.438747  , 0.53785899,\n",
              "        0.7872171 , 0.72601365, 0.74912299, 0.73315815, 0.76778698,\n",
              "        0.75965085, 0.31051869, 0.09477843, 0.05552656, 0.72654787],\n",
              "       [0.72648806, 0.03641611, 0.79279587, 0.03641611, 0.75163319,\n",
              "        0.72902533, 0.77481892, 0.79166667, 0.44295109, 0.75163272,\n",
              "        0.74821179, 0.75382933, 0.8667914 , 0.97338914, 0.48383387,\n",
              "        0.72648806, 0.29380233, 0.86432243, 0.54795401, 0.76505523,\n",
              "        0.92235824, 0.75019207, 0.75207692, 0.75402951, 0.38925037,\n",
              "        0.10301597, 0.19513934, 0.06624228, 0.46670116, 0.55220522,\n",
              "        0.78818   , 0.73655086, 0.75552325, 0.73444411, 0.76778698,\n",
              "        0.7638516 , 0.28892642, 0.09477843, 0.05552656, 0.73103572]])"
            ]
          },
          "execution_count": 22,
          "metadata": {
            "tags": []
          },
          "output_type": "execute_result"
        }
      ],
      "source": [
        "X_train[1]"
      ]
    },
    {
      "cell_type": "code",
      "execution_count": null,
      "metadata": {
        "colab": {
          "base_uri": "https://localhost:8080/",
          "height": 697
        },
        "id": "3Aloc5WRAx_r",
        "outputId": "e00d345a-0a61-43a5-dfad-dc8f56e9c237"
      },
      "outputs": [
        {
          "name": "stdout",
          "output_type": "stream",
          "text": [
            "Epoch 1/20\n",
            "32/32 [==============================] - 3s 107ms/step - loss: 109.5741 - mean_absolute_error: 109.5741 - val_loss: 102.8899 - val_mean_absolute_error: 102.8899\n",
            "Epoch 2/20\n",
            "32/32 [==============================] - 3s 84ms/step - loss: 31.2039 - mean_absolute_error: 31.2039 - val_loss: 25.1637 - val_mean_absolute_error: 25.1637\n",
            "Epoch 3/20\n",
            "32/32 [==============================] - 3s 83ms/step - loss: 13.2805 - mean_absolute_error: 13.2805 - val_loss: 40.3179 - val_mean_absolute_error: 40.3179\n",
            "Epoch 4/20\n",
            "32/32 [==============================] - 3s 84ms/step - loss: 11.9766 - mean_absolute_error: 11.9766 - val_loss: 40.4841 - val_mean_absolute_error: 40.4841\n",
            "Epoch 5/20\n",
            "32/32 [==============================] - 3s 85ms/step - loss: 11.9985 - mean_absolute_error: 11.9985 - val_loss: 41.4778 - val_mean_absolute_error: 41.4778\n",
            "Epoch 6/20\n",
            "32/32 [==============================] - 3s 86ms/step - loss: 11.9969 - mean_absolute_error: 11.9969 - val_loss: 41.6690 - val_mean_absolute_error: 41.6690\n",
            "Epoch 7/20\n",
            "32/32 [==============================] - 3s 86ms/step - loss: 11.8736 - mean_absolute_error: 11.8736 - val_loss: 34.5542 - val_mean_absolute_error: 34.5542\n",
            "Epoch 8/20\n",
            "32/32 [==============================] - 3s 85ms/step - loss: 12.1195 - mean_absolute_error: 12.1195 - val_loss: 40.3018 - val_mean_absolute_error: 40.3018\n",
            "Epoch 9/20\n",
            "32/32 [==============================] - 3s 85ms/step - loss: 11.9979 - mean_absolute_error: 11.9979 - val_loss: 36.3400 - val_mean_absolute_error: 36.3400\n",
            "Epoch 10/20\n",
            "32/32 [==============================] - 3s 85ms/step - loss: 12.0130 - mean_absolute_error: 12.0130 - val_loss: 40.9217 - val_mean_absolute_error: 40.9217\n",
            "Epoch 11/20\n",
            "32/32 [==============================] - 3s 86ms/step - loss: 11.7069 - mean_absolute_error: 11.7069 - val_loss: 39.0694 - val_mean_absolute_error: 39.0694\n",
            "Epoch 12/20\n",
            "32/32 [==============================] - 3s 86ms/step - loss: 11.5851 - mean_absolute_error: 11.5851 - val_loss: 40.3126 - val_mean_absolute_error: 40.3126\n",
            "Epoch 13/20\n",
            "32/32 [==============================] - 3s 87ms/step - loss: 10.7707 - mean_absolute_error: 10.7707 - val_loss: 35.0754 - val_mean_absolute_error: 35.0754\n",
            "Epoch 14/20\n",
            "32/32 [==============================] - 3s 86ms/step - loss: 9.8114 - mean_absolute_error: 9.8114 - val_loss: 25.3165 - val_mean_absolute_error: 25.3165\n",
            "Epoch 15/20\n",
            "32/32 [==============================] - 3s 87ms/step - loss: 10.7923 - mean_absolute_error: 10.7923 - val_loss: 34.3077 - val_mean_absolute_error: 34.3077\n",
            "Epoch 16/20\n",
            "32/32 [==============================] - 3s 85ms/step - loss: 9.6755 - mean_absolute_error: 9.6755 - val_loss: 23.6099 - val_mean_absolute_error: 23.6099\n",
            "Epoch 17/20\n",
            "32/32 [==============================] - 3s 85ms/step - loss: 9.0905 - mean_absolute_error: 9.0905 - val_loss: 22.5697 - val_mean_absolute_error: 22.5697\n",
            "Epoch 18/20\n",
            "32/32 [==============================] - 3s 85ms/step - loss: 9.4473 - mean_absolute_error: 9.4473 - val_loss: 18.6928 - val_mean_absolute_error: 18.6928\n",
            "Epoch 19/20\n",
            "32/32 [==============================] - 3s 86ms/step - loss: 7.8056 - mean_absolute_error: 7.8056 - val_loss: 28.9597 - val_mean_absolute_error: 28.9597\n",
            "Epoch 20/20\n",
            "32/32 [==============================] - 3s 85ms/step - loss: 6.7963 - mean_absolute_error: 6.7963 - val_loss: 25.0804 - val_mean_absolute_error: 25.0804\n"
          ]
        }
      ],
      "source": [
        "history_2 = model.fit(X_train, Y_train, epochs=20, batch_size=5, validation_split=0.2,shuffle=True)"
      ]
    },
    {
      "cell_type": "code",
      "execution_count": null,
      "metadata": {
        "id": "Zxp6Uu-k-HYN"
      },
      "outputs": [],
      "source": [
        "X_train"
      ]
    },
    {
      "cell_type": "code",
      "execution_count": null,
      "metadata": {
        "colab": {
          "base_uri": "https://localhost:8080/",
          "height": 187
        },
        "id": "We0ZjlE39fjf",
        "outputId": "d6b18d7c-630c-4d2d-c3b2-a56725f33676"
      },
      "outputs": [
        {
          "name": "stdout",
          "output_type": "stream",
          "text": [
            "Epoch 1/5\n",
            "41/41 [==============================] - 0s 2ms/step - loss: 0.0000e+00 - accuracy: 0.0000e+00\n",
            "Epoch 2/5\n",
            "41/41 [==============================] - 0s 2ms/step - loss: 0.0000e+00 - accuracy: 0.0000e+00\n",
            "Epoch 3/5\n",
            "41/41 [==============================] - 0s 2ms/step - loss: 0.0000e+00 - accuracy: 0.0000e+00\n",
            "Epoch 4/5\n",
            "41/41 [==============================] - 0s 2ms/step - loss: 0.0000e+00 - accuracy: 0.0000e+00\n",
            "Epoch 5/5\n",
            "41/41 [==============================] - 0s 2ms/step - loss: 0.0000e+00 - accuracy: 0.0000e+00\n"
          ]
        }
      ],
      "source": [
        "model = build_model(X_train,Y_train)\n",
        "history_3 = model.fit(X_train, Y_train, epochs=5, batch_size=5, verbose=1)\n"
      ]
    },
    {
      "cell_type": "code",
      "execution_count": null,
      "metadata": {
        "colab": {
          "base_uri": "https://localhost:8080/",
          "height": 430
        },
        "id": "F7N5rU8fBRK0",
        "outputId": "7c0666ac-12aa-4003-ec94-8ebf553cf641"
      },
      "outputs": [
        {
          "ename": "KeyError",
          "evalue": "ignored",
          "output_type": "error",
          "traceback": [
            "\u001b[0;31m---------------------------------------------------------------------------\u001b[0m",
            "\u001b[0;31mKeyError\u001b[0m                                  Traceback (most recent call last)",
            "\u001b[0;32m<ipython-input-18-87dc68d7fa83>\u001b[0m in \u001b[0;36m<module>\u001b[0;34m()\u001b[0m\n\u001b[1;32m      1\u001b[0m \u001b[0mplt\u001b[0m\u001b[0;34m.\u001b[0m\u001b[0mplot\u001b[0m\u001b[0;34m(\u001b[0m\u001b[0mhistory_3\u001b[0m\u001b[0;34m.\u001b[0m\u001b[0mhistory\u001b[0m\u001b[0;34m[\u001b[0m\u001b[0;34m'loss'\u001b[0m\u001b[0;34m]\u001b[0m\u001b[0;34m)\u001b[0m\u001b[0;34m\u001b[0m\u001b[0;34m\u001b[0m\u001b[0m\n\u001b[0;32m----> 2\u001b[0;31m \u001b[0mplt\u001b[0m\u001b[0;34m.\u001b[0m\u001b[0mplot\u001b[0m\u001b[0;34m(\u001b[0m\u001b[0mhistory_3\u001b[0m\u001b[0;34m.\u001b[0m\u001b[0mhistory\u001b[0m\u001b[0;34m[\u001b[0m\u001b[0;34m'val_loss'\u001b[0m\u001b[0;34m]\u001b[0m\u001b[0;34m)\u001b[0m\u001b[0;34m\u001b[0m\u001b[0;34m\u001b[0m\u001b[0m\n\u001b[0m",
            "\u001b[0;31mKeyError\u001b[0m: 'val_loss'"
          ]
        },
        {
          "data": {
            "image/png": "[encoded data removed]",
            "text/plain": [
              "<Figure size 432x288 with 1 Axes>"
            ]
          },
          "metadata": {
            "needs_background": "light",
            "tags": []
          },
          "output_type": "display_data"
        }
      ],
      "source": [
        "plt.plot(history_3.history['loss'])\n",
        "plt.plot(history_3.history['val_loss'])"
      ]
    },
    {
      "cell_type": "code",
      "execution_count": null,
      "metadata": {
        "colab": {
          "base_uri": "https://localhost:8080/",
          "height": 540
        },
        "id": "UJjwQzglDbYe",
        "outputId": "f5119806-3f59-48f2-a1b2-28fe2438c7b1"
      },
      "outputs": [
        {
          "data": {
            "image/png": "[encoded data removed]",
            "text/plain": [
              "<Figure size 576x576 with 1 Axes>"
            ]
          },
          "metadata": {
            "tags": []
          },
          "output_type": "display_data"
        }
      ],
      "source": [
        "predict = model.predict(X_test,batch_size=1)\n",
        "# mean_squared_error(Y_test,predict)\n",
        "\n",
        "size = len(Y_test)\n",
        "predict_2 = model.predict(X_test,batch_size=1)\n",
        "\n",
        "plt.figure(figsize=(8,8))\n",
        "plt.plot(techindi.index[-size*4:-size+1], techindi['Close'].iloc[-size*4:-size+1], color='green', label = 'Train Stock Price')\n",
        "plt.plot(techindi.index[-size:], Y_test, color = 'red', label = 'Real Stock Price')\n",
        "plt.plot(techindi.index[-size:], predict_2, color = 'blue', label = 'Predicted Stock Price')\n",
        "plt.title('{} Stock Price Prediction'.format(stock_name))\n",
        "plt.xticks(rotation=30)\n",
        "plt.xlabel('Time')\n",
        "plt.ylabel('{} Stock Price'.format(stock_name))\n",
        "plt.legend()\n",
        "plt.grid(True)\n",
        "# plt.savefig('lstm_30.pdf')\n",
        "plt.show()"
      ]
    }
  ],
  "metadata": {
    "accelerator": "TPU",
    "colab": {
      "collapsed_sections": [],
      "name": "108971025_FinalProject.ipynb",
      "provenance": [],
      "toc_visible": true
    },
    "kernelspec": {
      "display_name": "Python 3.8.7 ('StockPricePrediction-MviMxm2U')",
      "language": "python",
      "name": "python3"
    },
    "language_info": {
      "name": "python",
      "version": "3.8.7"
    },
    "vscode": {
      "interpreter": {
        "hash": "390f2fd2e24e2630eae392073585cea74e6aeea6b2161bce17383e81974712d4"
      }
    }
  },
  "nbformat": 4,
  "nbformat_minor": 0
}
