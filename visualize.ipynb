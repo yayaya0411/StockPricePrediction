{
 "cells": [
  {
   "cell_type": "markdown",
   "metadata": {},
   "source": [
    "### Visualization Performance\n"
   ]
  },
  {
   "cell_type": "code",
   "execution_count": 57,
   "metadata": {},
   "outputs": [
    {
     "data": {
      "text/plain": [
       "['config.ini']"
      ]
     },
     "execution_count": 57,
     "metadata": {},
     "output_type": "execute_result"
    }
   ],
   "source": [
    "import numpy as np\n",
    "import pandas as pd\n",
    "from datetime import datetime\n",
    "import seaborn as sns\n",
    "import itertools\n",
    "from matplotlib import pyplot as plt\n",
    "import matplotlib.dates as mdate\n",
    "import matplotlib.dates as mdates\n",
    "import glob\n",
    "import os\n",
    "from collections import Counter\n",
    "from sklearn.metrics import mean_squared_error\n",
    "import tensorflow as tf\n",
    "\n",
    "from utility.utility import *\n",
    "from utility.techIndex import talib_index\n",
    "from utility.model import dnn, lstm, conv1d, conv2d, transformer\n",
    "\n",
    "import warnings\n",
    "warnings.simplefilter(action='ignore', category=pd.errors.PerformanceWarning)\n",
    "\n",
    "import configparser\n",
    "config = configparser.ConfigParser()\n",
    "config.read('config.ini')"
   ]
  },
  {
   "cell_type": "code",
   "execution_count": 58,
   "metadata": {},
   "outputs": [
    {
     "name": "stdout",
     "output_type": "stream",
     "text": [
      "data\\NFLX_test.csv\n"
     ]
    },
    {
     "data": {
      "text/plain": [
       "{'lstm': 'model/lstm\\\\20221005-005248_NFLX_e20_s30'}"
      ]
     },
     "execution_count": 58,
     "metadata": {},
     "output_type": "execute_result"
    }
   ],
   "source": [
    "# get last weight\n",
    "newest = True\n",
    "\n",
    "test_weight = {\n",
    "    # 'transformer': '',\n",
    "    # 'conv1d': '',\n",
    "    # 'conv2d': '',\n",
    "    # 'dnn': '',\n",
    "    'lstm': ''\n",
    " }\n",
    "# # test data\n",
    "# stock = 'TWII_test.csv'\n",
    "\n",
    "if newest:\n",
    "    for model, folder in test_weight.items(): \n",
    "        # test_weight[model] = glob.glob(f'model/{model}/*/')[-1][:-1]\n",
    "        test_weight[model] = glob.glob(f'model/{model}/*.index')[-1][:-6]\n",
    "\n",
    "# window length\n",
    "# slide = 30\n",
    "\n",
    "df = read_data(config, 'test')\n",
    "model_metric = {}\n",
    "test_weight"
   ]
  },
  {
   "cell_type": "markdown",
   "metadata": {},
   "source": [
    "### Predict Price"
   ]
  },
  {
   "cell_type": "code",
   "execution_count": 62,
   "metadata": {},
   "outputs": [
    {
     "name": "stdout",
     "output_type": "stream",
     "text": [
      "\n",
      "scale\n",
      "\n",
      "Model: \"sequential_23\"\n",
      "_________________________________________________________________\n",
      " Layer (type)                Output Shape              Param #   \n",
      "=================================================================\n",
      " lstm_92 (LSTM)              (None, 30, 128)           69120     \n",
      "                                                                 \n",
      " lstm_93 (LSTM)              (None, 30, 128)           131584    \n",
      "                                                                 \n",
      " batch_normalization_46 (Bat  (None, 30, 128)          512       \n",
      " chNormalization)                                                \n",
      "                                                                 \n",
      " dropout_46 (Dropout)        (None, 30, 128)           0         \n",
      "                                                                 \n",
      " lstm_94 (LSTM)              (None, 30, 128)           131584    \n",
      "                                                                 \n",
      " lstm_95 (LSTM)              (None, 30, 128)           131584    \n",
      "                                                                 \n",
      " batch_normalization_47 (Bat  (None, 30, 128)          512       \n",
      " chNormalization)                                                \n",
      "                                                                 \n",
      " flatten_23 (Flatten)        (None, 3840)              0         \n",
      "                                                                 \n",
      " dropout_47 (Dropout)        (None, 3840)              0         \n",
      "                                                                 \n",
      " dense_23 (Dense)            (None, 1)                 3841      \n",
      "                                                                 \n",
      "=================================================================\n",
      "Total params: 468,737\n",
      "Trainable params: 468,225\n",
      "Non-trainable params: 512\n",
      "_________________________________________________________________\n",
      "None\n",
      "WARNING:tensorflow:Inconsistent references when loading the checkpoint into this object graph. For example, in the saved checkpoint object, `model.layer.weight` and `model.layer_copy.weight` reference the same variable, while in the current object these are two different variables. The referenced variables are:(<keras.layers.normalization.batch_normalization.BatchNormalization object at 0x000001CC02DF6AC0> and <keras.layers.regularization.dropout.Dropout object at 0x000001CC058ED580>).\n",
      "000\n",
      "5/5 [==============================] - 1s 34ms/step\n",
      "111\n"
     ]
    },
    {
     "data": {
      "text/html": [
       "<div>\n",
       "<style scoped>\n",
       "    .dataframe tbody tr th:only-of-type {\n",
       "        vertical-align: middle;\n",
       "    }\n",
       "\n",
       "    .dataframe tbody tr th {\n",
       "        vertical-align: top;\n",
       "    }\n",
       "\n",
       "    .dataframe thead th {\n",
       "        text-align: right;\n",
       "    }\n",
       "</style>\n",
       "<table border=\"1\" class=\"dataframe\">\n",
       "  <thead>\n",
       "    <tr style=\"text-align: right;\">\n",
       "      <th></th>\n",
       "      <th>bench mark</th>\n",
       "      <th>lstm</th>\n",
       "    </tr>\n",
       "    <tr>\n",
       "      <th>Date</th>\n",
       "      <th></th>\n",
       "      <th></th>\n",
       "    </tr>\n",
       "  </thead>\n",
       "  <tbody>\n",
       "    <tr>\n",
       "      <th>2022-02-16</th>\n",
       "      <td>407.459991</td>\n",
       "      <td>204.969910</td>\n",
       "    </tr>\n",
       "    <tr>\n",
       "      <th>2022-02-17</th>\n",
       "      <td>398.079987</td>\n",
       "      <td>204.058517</td>\n",
       "    </tr>\n",
       "    <tr>\n",
       "      <th>2022-02-18</th>\n",
       "      <td>386.670013</td>\n",
       "      <td>203.435791</td>\n",
       "    </tr>\n",
       "    <tr>\n",
       "      <th>2022-02-22</th>\n",
       "      <td>391.290009</td>\n",
       "      <td>202.878494</td>\n",
       "    </tr>\n",
       "    <tr>\n",
       "      <th>2022-02-23</th>\n",
       "      <td>377.380005</td>\n",
       "      <td>202.372498</td>\n",
       "    </tr>\n",
       "    <tr>\n",
       "      <th>...</th>\n",
       "      <td>...</td>\n",
       "      <td>...</td>\n",
       "    </tr>\n",
       "    <tr>\n",
       "      <th>2022-09-28</th>\n",
       "      <td>224.360001</td>\n",
       "      <td>189.033096</td>\n",
       "    </tr>\n",
       "    <tr>\n",
       "      <th>2022-09-29</th>\n",
       "      <td>245.199997</td>\n",
       "      <td>188.929199</td>\n",
       "    </tr>\n",
       "    <tr>\n",
       "      <th>2022-09-30</th>\n",
       "      <td>239.710007</td>\n",
       "      <td>188.816635</td>\n",
       "    </tr>\n",
       "    <tr>\n",
       "      <th>2022-10-03</th>\n",
       "      <td>235.440002</td>\n",
       "      <td>188.805450</td>\n",
       "    </tr>\n",
       "    <tr>\n",
       "      <th>2022-10-04</th>\n",
       "      <td>239.039993</td>\n",
       "      <td>188.858734</td>\n",
       "    </tr>\n",
       "  </tbody>\n",
       "</table>\n",
       "<p>159 rows × 2 columns</p>\n",
       "</div>"
      ],
      "text/plain": [
       "            bench mark        lstm\n",
       "Date                              \n",
       "2022-02-16  407.459991  204.969910\n",
       "2022-02-17  398.079987  204.058517\n",
       "2022-02-18  386.670013  203.435791\n",
       "2022-02-22  391.290009  202.878494\n",
       "2022-02-23  377.380005  202.372498\n",
       "...                ...         ...\n",
       "2022-09-28  224.360001  189.033096\n",
       "2022-09-29  245.199997  188.929199\n",
       "2022-09-30  239.710007  188.816635\n",
       "2022-10-03  235.440002  188.805450\n",
       "2022-10-04  239.039993  188.858734\n",
       "\n",
       "[159 rows x 2 columns]"
      ]
     },
     "metadata": {},
     "output_type": "display_data"
    },
    {
     "name": "stdout",
     "output_type": "stream",
     "text": [
      "CPU times: total: 2.28 s\n",
      "Wall time: 2.51 s\n"
     ]
    }
   ],
   "source": [
    "%%time\n",
    "\n",
    "X, y = label(df)\n",
    "# X_dim = X.index\n",
    "X_scaler, y_scaler = scaler(X, y, config, 'test')\n",
    "# sns.set_palette(\"tab10\")\n",
    "metric = pd.DataFrame({'bench mark':y[int(config['MODEL']['slide']):]})\n",
    "\n",
    "for model_name, weight in test_weight.items(): \n",
    "    X_, y_ = training_window(X_scaler, y_scaler , config, model_name)\n",
    "    model = load_model(X_.shape, model_name)\n",
    "    model.load_weights(test_weight[model_name])\n",
    "    print('000')\n",
    "    y_pred = model.predict(X_)\n",
    "    if bool(config[\"STOCK\"][\"scale\"]):\n",
    "        y_pred = inverse_predict(y_pred, config)\n",
    "    # print(type(y_pred),y_pred[:5])\n",
    "    metric[model_name] = y_pred\n",
    "    # mse = mean_squared_error(y[int(config['MODEL']['slide']):], y_pred, squared=False)   \n",
    "    print('111')\n",
    "    \n",
    "display(metric)\n",
    "\n"
   ]
  },
  {
   "cell_type": "code",
   "execution_count": 61,
   "metadata": {},
   "outputs": [
    {
     "data": {
      "image/png": "[encoded data removed]",
      "text/plain": [
       "<Figure size 1200x400 with 1 Axes>"
      ]
     },
     "metadata": {},
     "output_type": "display_data"
    }
   ],
   "source": [
    "fig, ax = plt.subplots(1, 1, figsize=(12, 4), dpi=100)\n",
    "plt.gca().xaxis.set_major_formatter(mdates.DateFormatter('%Y%m%d'))\n",
    "metric.index = pd.to_datetime(metric.index)\n",
    "sns.lineplot(data=metric, ax=ax)\n",
    "ax.xaxis.set_major_formatter(mdates.DateFormatter('%Y%m%d'))\n"
   ]
  }
 ],
 "metadata": {
  "kernelspec": {
   "display_name": "Python 3.8.7 ('StockPricePrediction-MviMxm2U')",
   "language": "python",
   "name": "python3"
  },
  "language_info": {
   "codemirror_mode": {
    "name": "ipython",
    "version": 3
   },
   "file_extension": ".py",
   "mimetype": "text/x-python",
   "name": "python",
   "nbconvert_exporter": "python",
   "pygments_lexer": "ipython3",
   "version": "3.8.7"
  },
  "orig_nbformat": 4,
  "vscode": {
   "interpreter": {
    "hash": "390f2fd2e24e2630eae392073585cea74e6aeea6b2161bce17383e81974712d4"
   }
  }
 },
 "nbformat": 4,
 "nbformat_minor": 2
}
