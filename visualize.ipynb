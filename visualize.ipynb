{
 "cells": [
  {
   "cell_type": "markdown",
   "metadata": {},
   "source": [
    "### Visualization Performance\n"
   ]
  },
  {
   "cell_type": "code",
   "execution_count": 1,
   "metadata": {},
   "outputs": [
    {
     "data": {
      "text/plain": [
       "['config.ini']"
      ]
     },
     "execution_count": 1,
     "metadata": {},
     "output_type": "execute_result"
    }
   ],
   "source": [
    "import numpy as np\n",
    "import pandas as pd\n",
    "from datetime import datetime\n",
    "import seaborn as sns\n",
    "import itertools\n",
    "from matplotlib import pyplot as plt\n",
    "import matplotlib.dates as mdate\n",
    "import matplotlib.dates as mdates\n",
    "import glob\n",
    "import os\n",
    "from collections import Counter\n",
    "from sklearn.metrics import mean_squared_error\n",
    "import tensorflow as tf\n",
    "\n",
    "from utility.utility import *\n",
    "from utility.techIndex import talib_index\n",
    "from utility.model import dnn, lstm, conv1d, conv2d, transformer\n",
    "\n",
    "import warnings\n",
    "warnings.simplefilter(action='ignore', category=pd.errors.PerformanceWarning)\n",
    "\n",
    "import configparser\n",
    "config = configparser.ConfigParser()\n",
    "config.read('config.ini')"
   ]
  },
  {
   "cell_type": "code",
   "execution_count": 2,
   "metadata": {},
   "outputs": [
    {
     "name": "stdout",
     "output_type": "stream",
     "text": [
      "data\\NFLX_test.csv\n"
     ]
    },
    {
     "data": {
      "text/plain": [
       "{'lstm': 'model/lstm\\\\20221005-234739_NFLX_e20_s30'}"
      ]
     },
     "execution_count": 2,
     "metadata": {},
     "output_type": "execute_result"
    }
   ],
   "source": [
    "# get last weight\n",
    "newest = True\n",
    "\n",
    "test_weight = {\n",
    "    # 'transformer': '',\n",
    "    # 'conv1d': '',\n",
    "    # 'conv2d': '',\n",
    "    # 'dnn': '',\n",
    "    'lstm': ''\n",
    " }\n",
    "# # test data\n",
    "# stock = 'TWII_test.csv'\n",
    "\n",
    "if newest:\n",
    "    for model, folder in test_weight.items(): \n",
    "        # test_weight[model] = glob.glob(f'model/{model}/*/')[-1][:-1]\n",
    "        test_weight[model] = glob.glob(f'model/{model}/*.index')[-1][:-6]\n",
    "\n",
    "# window length\n",
    "# slide = 30\n",
    "\n",
    "df = read_data(config, 'test')\n",
    "model_metric = {}\n",
    "test_weight"
   ]
  },
  {
   "cell_type": "markdown",
   "metadata": {},
   "source": [
    "### Predict Price"
   ]
  },
  {
   "cell_type": "code",
   "execution_count": 3,
   "metadata": {},
   "outputs": [
    {
     "name": "stdout",
     "output_type": "stream",
     "text": [
      "\n",
      "scale\n",
      "\n",
      "3\n",
      "Model: \"sequential\"\n",
      "_________________________________________________________________\n",
      " Layer (type)                Output Shape              Param #   \n",
      "=================================================================\n",
      " lstm (LSTM)                 (None, 30, 128)           69120     \n",
      "                                                                 \n",
      " lstm_1 (LSTM)               (None, 128)               131584    \n",
      "                                                                 \n",
      " dropout (Dropout)           (None, 128)               0         \n",
      "                                                                 \n",
      " dense (Dense)               (None, 1)                 129       \n",
      "                                                                 \n",
      "=================================================================\n",
      "Total params: 200,833\n",
      "Trainable params: 200,833\n",
      "Non-trainable params: 0\n",
      "_________________________________________________________________\n",
      "None\n",
      "4\n",
      "5\n",
      "5/5 [==============================] - 1s 15ms/step\n",
      "6\n",
      "7\n"
     ]
    },
    {
     "data": {
      "text/html": [
       "<div>\n",
       "<style scoped>\n",
       "    .dataframe tbody tr th:only-of-type {\n",
       "        vertical-align: middle;\n",
       "    }\n",
       "\n",
       "    .dataframe tbody tr th {\n",
       "        vertical-align: top;\n",
       "    }\n",
       "\n",
       "    .dataframe thead th {\n",
       "        text-align: right;\n",
       "    }\n",
       "</style>\n",
       "<table border=\"1\" class=\"dataframe\">\n",
       "  <thead>\n",
       "    <tr style=\"text-align: right;\">\n",
       "      <th></th>\n",
       "      <th>0</th>\n",
       "      <th>lstm</th>\n",
       "    </tr>\n",
       "    <tr>\n",
       "      <th>Date</th>\n",
       "      <th></th>\n",
       "      <th></th>\n",
       "    </tr>\n",
       "  </thead>\n",
       "  <tbody>\n",
       "    <tr>\n",
       "      <th>2022-02-16</th>\n",
       "      <td>1.163046</td>\n",
       "      <td>1.140269</td>\n",
       "    </tr>\n",
       "    <tr>\n",
       "      <th>2022-02-17</th>\n",
       "      <td>1.111697</td>\n",
       "      <td>1.075347</td>\n",
       "    </tr>\n",
       "    <tr>\n",
       "      <th>2022-02-18</th>\n",
       "      <td>1.049234</td>\n",
       "      <td>1.056391</td>\n",
       "    </tr>\n",
       "    <tr>\n",
       "      <th>2022-02-22</th>\n",
       "      <td>1.074526</td>\n",
       "      <td>1.082684</td>\n",
       "    </tr>\n",
       "    <tr>\n",
       "      <th>2022-02-23</th>\n",
       "      <td>0.998377</td>\n",
       "      <td>1.008549</td>\n",
       "    </tr>\n",
       "    <tr>\n",
       "      <th>...</th>\n",
       "      <td>...</td>\n",
       "      <td>...</td>\n",
       "    </tr>\n",
       "    <tr>\n",
       "      <th>2022-09-28</th>\n",
       "      <td>0.160686</td>\n",
       "      <td>0.214360</td>\n",
       "    </tr>\n",
       "    <tr>\n",
       "      <th>2022-09-29</th>\n",
       "      <td>0.274772</td>\n",
       "      <td>0.240201</td>\n",
       "    </tr>\n",
       "    <tr>\n",
       "      <th>2022-09-30</th>\n",
       "      <td>0.244718</td>\n",
       "      <td>0.261898</td>\n",
       "    </tr>\n",
       "    <tr>\n",
       "      <th>2022-10-03</th>\n",
       "      <td>0.221342</td>\n",
       "      <td>0.262452</td>\n",
       "    </tr>\n",
       "    <tr>\n",
       "      <th>2022-10-04</th>\n",
       "      <td>0.241050</td>\n",
       "      <td>0.264302</td>\n",
       "    </tr>\n",
       "  </tbody>\n",
       "</table>\n",
       "<p>159 rows × 2 columns</p>\n",
       "</div>"
      ],
      "text/plain": [
       "                   0      lstm\n",
       "Date                          \n",
       "2022-02-16  1.163046  1.140269\n",
       "2022-02-17  1.111697  1.075347\n",
       "2022-02-18  1.049234  1.056391\n",
       "2022-02-22  1.074526  1.082684\n",
       "2022-02-23  0.998377  1.008549\n",
       "...              ...       ...\n",
       "2022-09-28  0.160686  0.214360\n",
       "2022-09-29  0.274772  0.240201\n",
       "2022-09-30  0.244718  0.261898\n",
       "2022-10-03  0.221342  0.262452\n",
       "2022-10-04  0.241050  0.264302\n",
       "\n",
       "[159 rows x 2 columns]"
      ]
     },
     "metadata": {},
     "output_type": "display_data"
    },
    {
     "name": "stdout",
     "output_type": "stream",
     "text": [
      "CPU times: total: 1.02 s\n",
      "Wall time: 1.11 s\n"
     ]
    }
   ],
   "source": [
    "%%time\n",
    "\n",
    "X, y = label(df)\n",
    "# X_dim = X.index\n",
    "X_scaler, y_scaler = scaler(X, y, config, 'test')\n",
    "# sns.set_palette(\"tab10\")\n",
    "metric = pd.DataFrame()\n",
    "# metric = pd.DataFrame({'bench mark':y[int(config['MODEL']['slide']):]})\n",
    "metric = pd.DataFrame(y_scaler[int(config['MODEL']['slide']):], index = y.index[int(config['MODEL']['slide']):], columns = 'bench mark')\n",
    "# metric['bench mark'] = y_scaler.reshape(1,-1)\n",
    "\n",
    "for model_name, weight in test_weight.items(): \n",
    "    X_, y_ = training_window(X_scaler, y_scaler , config, model_name)\n",
    "    model = load_model(X_.shape, model_name)\n",
    "    model.load_weights(test_weight[model_name])\n",
    "    y_pred = model.predict(X_)\n",
    "\n",
    "    # if bool(config[\"STOCK\"][\"scale\"]):\n",
    "    #     y_pred = inverse_predict(y_pred, config)\n",
    "    # mse = mean_squared_error(y[int(config['MODEL']['slide']):], y_pred, squared=False)   \n",
    "    metric[model_name] = y_pred\n",
    "    print('7')\n",
    "    \n",
    "display(metric)\n",
    "\n"
   ]
  },
  {
   "cell_type": "code",
   "execution_count": 5,
   "metadata": {},
   "outputs": [
    {
     "data": {
      "image/png": "[encoded data removed]",
      "text/plain": [
       "<Figure size 1200x400 with 1 Axes>"
      ]
     },
     "metadata": {},
     "output_type": "display_data"
    }
   ],
   "source": [
    "fig, ax = plt.subplots(1, 1, figsize=(12, 4), dpi=100)\n",
    "plt.gca().xaxis.set_major_formatter(mdates.DateFormatter('%Y%m%d'))\n",
    "metric.index = pd.to_datetime(metric.index)\n",
    "sns.lineplot(data=metric, ax=ax)\n",
    "ax.xaxis.set_major_formatter(mdates.DateFormatter('%Y%m%d'))\n"
   ]
  }
 ],
 "metadata": {
  "kernelspec": {
   "display_name": "Python 3.8.7 ('StockPricePrediction-MviMxm2U')",
   "language": "python",
   "name": "python3"
  },
  "language_info": {
   "codemirror_mode": {
    "name": "ipython",
    "version": 3
   },
   "file_extension": ".py",
   "mimetype": "text/x-python",
   "name": "python",
   "nbconvert_exporter": "python",
   "pygments_lexer": "ipython3",
   "version": "3.8.7"
  },
  "orig_nbformat": 4,
  "vscode": {
   "interpreter": {
    "hash": "390f2fd2e24e2630eae392073585cea74e6aeea6b2161bce17383e81974712d4"
   }
  }
 },
 "nbformat": 4,
 "nbformat_minor": 2
}
