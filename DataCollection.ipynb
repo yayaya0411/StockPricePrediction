{
 "cells": [
  {
   "cell_type": "markdown",
   "metadata": {
    "pycharm": {
     "name": "#%% md\n"
    }
   },
   "source": []
  },
  {
   "cell_type": "code",
   "execution_count": 1,
   "metadata": {
    "collapsed": false,
    "jupyter": {
     "outputs_hidden": false
    },
    "pycharm": {
     "name": "#%%\n"
    }
   },
   "outputs": [],
   "source": [
    "colab = False"
   ]
  },
  {
   "cell_type": "code",
   "execution_count": 2,
   "metadata": {
    "collapsed": false,
    "jupyter": {
     "outputs_hidden": false
    },
    "pycharm": {
     "name": "#%%\n"
    }
   },
   "outputs": [
    {
     "name": "stderr",
     "output_type": "stream",
     "text": [
      "c:\\programdata\\miniconda3\\lib\\site-packages\\numpy\\_distributor_init.py:30: UserWarning: loaded more than 1 DLL from .libs:\n",
      "c:\\programdata\\miniconda3\\lib\\site-packages\\numpy\\.libs\\libopenblas.4SP5SUA7CBGXUEOC35YP2ASOICYYEQZZ.gfortran-win_amd64.dll\n",
      "c:\\programdata\\miniconda3\\lib\\site-packages\\numpy\\.libs\\libopenblas.WCDJNK7YVMPZQ2ME2ZZHJJRJ3JIKNDB7.gfortran-win_amd64.dll\n",
      "  warnings.warn(\"loaded more than 1 DLL from .libs:\"\n"
     ]
    }
   ],
   "source": [
    "from importlib import reload\n",
    "import utility.techIndex\n",
    "reload(utility.techIndex)\n",
    "from utility.techIndex import *\n",
    "import utility.datatools\n",
    "reload(utility.datatools)\n",
    "from utility.datatools import *\n",
    "import utility.structure\n",
    "reload(utility.structure)\n",
    "from utility.structure import *\n",
    "import utility.training\n",
    "reload(utility.training)\n",
    "from utility.training import *\n",
    "import utility.strategy\n",
    "reload(utility.strategy)\n",
    "from utility.strategy import *\n",
    "import config\n",
    "reload(config)\n",
    "from config import *"
   ]
  },
  {
   "cell_type": "markdown",
   "metadata": {},
   "source": [
    "## FinMind Dictionary"
   ]
  },
  {
   "cell_type": "code",
   "execution_count": 3,
   "metadata": {
    "collapsed": false,
    "jupyter": {
     "outputs_hidden": false
    },
    "pycharm": {
     "name": "#%%\n"
    }
   },
   "outputs": [
    {
     "name": "stdout",
     "output_type": "stream",
     "text": [
      "      name                         english\n",
      "0     融資買進               MarginPurchaseBuy\n",
      "1     融資償還     MarginPurchaseCashRepayment\n",
      "2     融資限額             MarginPurchaseLimit\n",
      "3     融資賣出              MarginPurchaseSell\n",
      "4   融資今日餘額      MarginPurchaseTodayBalance\n",
      "5   融資昨日餘額  MarginPurchaseYesterdayBalance\n",
      "6     融券限額              OffsetLoanAndShort\n",
      "7     融券買進                    ShortSaleBuy\n",
      "8     融券償還          ShortSaleCashRepayment\n",
      "9     融券限額                  ShortSaleLimit\n",
      "10    融券賣出                   ShortSaleSell\n",
      "11  融券今日餘額           ShortSaleTodayBalance\n",
      "12  融券昨日餘額       ShortSaleYesterdayBalance\n",
      "      name              english\n",
      "0      自營商               Dealer\n",
      "1    自營商避險       Dealer_Hedging\n",
      "2  自營商自行買賣          Dealer_self\n",
      "3    外資自營商  Foreign_Dealer_Self\n",
      "4       外資     Foreign_Investor\n",
      "5       投信     Investment_Trust\n",
      "     industry_category               stock_id stock_name  type        date\n",
      "0                  ETF                   0050     元大台灣50  twse  2022-09-10\n",
      "1                  ETF                   0051    元大中型100  twse  2022-09-10\n",
      "2                  ETF                   0052       富邦科技  twse  2022-09-10\n",
      "3                  ETF                   0053       元大電子  twse  2022-09-10\n",
      "4                  ETF                   0054     元大台商50  twse  2022-09-10\n",
      "...                ...                    ...        ...   ...         ...\n",
      "2934                大盤                  TAIEX       加權指數  twse        None\n",
      "2935             Index               Textiles    紡織纖維類指數  twse        None\n",
      "2936             Index                Tourism    觀光事業類指數  twse        None\n",
      "2937                大盤                   TPEx       櫃買指數  tpex        None\n",
      "2938             Index  TradingConsumersGoods    貿易百貨類指數  twse        None\n",
      "\n",
      "[2939 rows x 5 columns]\n"
     ]
    }
   ],
   "source": [
    "dataset_list = ['margin','institution','info']\n",
    "finmind_dict(dataset_list)"
   ]
  },
  {
   "cell_type": "markdown",
   "metadata": {},
   "source": [
    "## Data Collection"
   ]
  },
  {
   "cell_type": "code",
   "execution_count": 4,
   "metadata": {
    "collapsed": false,
    "jupyter": {
     "outputs_hidden": false
    },
    "pycharm": {
     "name": "#%%\n"
    }
   },
   "outputs": [
    {
     "name": "stdout",
     "output_type": "stream",
     "text": [
      "2022/09/12 01:01:48\n",
      "1 1101 download \n",
      "2 1216 download \n",
      "3 1301 download \n",
      "4 1303 download \n",
      "5 1326 download \n",
      "6 1402 download \n",
      "7 1590 download \n",
      "8 2002 download \n",
      "9 2207 download \n",
      "10 2303 download \n",
      "11 2308 download \n",
      "12 2317 download \n",
      "13 2324 download \n",
      "14 2327 download \n",
      "15 2330 download \n",
      "16 2357 download \n",
      "17 2379 download \n",
      "18 2382 download \n",
      "19 2395 download \n",
      "20 2408 download \n",
      "21 2409 download \n",
      "22 2412 download \n",
      "23 2603 download \n",
      "24 2609 download \n",
      "25 2615 download \n",
      "26 2801 download \n",
      "27 2880 download \n",
      "28 2881 download \n",
      "29 2882 download \n",
      "30 2884 download \n",
      "31 2885 download \n",
      "32 2886 download \n",
      "33 2887 download \n",
      "34 2891 download \n",
      "35 2892 download \n",
      "36 2912 download \n",
      "37 3008 download \n",
      "38 3034 download \n",
      "39 3045 download \n",
      "40 4904 download \n",
      "41 4938 download \n",
      "42 5880 download \n",
      "43 6415 download \n",
      "44 6505 download \n",
      "45 8046 download \n",
      "46 8454 download \n",
      "47 9910 download \n",
      "Wall time: 7min 21s\n"
     ]
    }
   ],
   "source": [
    "%%time\n",
    "print_time(colab)\n",
    "counter = 0\n",
    "for stock_num in stockNum:\n",
    "    counter += 1\n",
    "    miss_check = ''\n",
    "    df = loading_data_api(stock_num, download_start, download_end)\n",
    "    # if df.isnull().sum().sum() >0:\n",
    "    #     miss_check = \"have missing value\"\n",
    "    df.to_csv(os.path.join(gd_root, stock_root, str(stock_num)+'.csv'))\n",
    "    print(counter,str(stock_num),\"download\",miss_check)"
   ]
  },
  {
   "cell_type": "markdown",
   "metadata": {},
   "source": [
    "## Caculate Stdev to Filter Feature"
   ]
  },
  {
   "cell_type": "code",
   "execution_count": 5,
   "metadata": {
    "collapsed": false,
    "jupyter": {
     "outputs_hidden": false
    },
    "pycharm": {
     "name": "#%%\n"
    }
   },
   "outputs": [
    {
     "ename": "UnboundLocalError",
     "evalue": "local variable 'feature_rank' referenced before assignment",
     "output_type": "error",
     "traceback": [
      "\u001b[1;31m---------------------------------------------------------------------------\u001b[0m",
      "\u001b[1;31mUnboundLocalError\u001b[0m                         Traceback (most recent call last)",
      "\u001b[1;32m~\\AppData\\Local\\Temp/ipykernel_46880/767290167.py\u001b[0m in \u001b[0;36m<module>\u001b[1;34m\u001b[0m\n\u001b[0;32m      1\u001b[0m \u001b[0mpath\u001b[0m \u001b[1;33m=\u001b[0m \u001b[0mos\u001b[0m\u001b[1;33m.\u001b[0m\u001b[0mpath\u001b[0m\u001b[1;33m.\u001b[0m\u001b[0mjoin\u001b[0m\u001b[1;33m(\u001b[0m\u001b[0mgd_root\u001b[0m\u001b[1;33m,\u001b[0m\u001b[0mstock_root\u001b[0m\u001b[1;33m)\u001b[0m\u001b[1;33m\u001b[0m\u001b[1;33m\u001b[0m\u001b[0m\n\u001b[1;32m----> 2\u001b[1;33m \u001b[0mfeature_std\u001b[0m\u001b[1;33m(\u001b[0m\u001b[0mstockNum\u001b[0m\u001b[1;33m,\u001b[0m\u001b[0mpath\u001b[0m\u001b[1;33m)\u001b[0m\u001b[1;33m\u001b[0m\u001b[1;33m\u001b[0m\u001b[0m\n\u001b[0m",
      "\u001b[1;32mF:\\Program_Trading-main\\utility\\datatools.py\u001b[0m in \u001b[0;36mfeature_std\u001b[1;34m(stockNum, path)\u001b[0m\n\u001b[0;32m    272\u001b[0m         \u001b[0mfeature_rank\u001b[0m\u001b[1;33m[\u001b[0m\u001b[1;34m'rank'\u001b[0m\u001b[1;33m]\u001b[0m \u001b[1;33m=\u001b[0m \u001b[0mfeature_rank\u001b[0m\u001b[1;33m.\u001b[0m\u001b[0mrank\u001b[0m\u001b[1;33m(\u001b[0m\u001b[0mascending\u001b[0m\u001b[1;33m=\u001b[0m\u001b[1;32mFalse\u001b[0m\u001b[1;33m)\u001b[0m\u001b[1;33m.\u001b[0m\u001b[0mastype\u001b[0m\u001b[1;33m(\u001b[0m\u001b[1;34m'int'\u001b[0m\u001b[1;33m)\u001b[0m\u001b[1;33m\u001b[0m\u001b[1;33m\u001b[0m\u001b[0m\n\u001b[0;32m    273\u001b[0m         \u001b[1;31m# feature_rank.to_csv(os.path.join(gd_root,assets_root,'feature_rank.csv'))\u001b[0m\u001b[1;33m\u001b[0m\u001b[1;33m\u001b[0m\u001b[1;33m\u001b[0m\u001b[0m\n\u001b[1;32m--> 274\u001b[1;33m     \u001b[1;32mreturn\u001b[0m \u001b[0mfeature_rank\u001b[0m\u001b[1;33m\u001b[0m\u001b[1;33m\u001b[0m\u001b[0m\n\u001b[0m\u001b[0;32m    275\u001b[0m \u001b[1;33m\u001b[0m\u001b[0m\n\u001b[0;32m    276\u001b[0m \u001b[1;32mdef\u001b[0m \u001b[0minput_build\u001b[0m\u001b[1;33m(\u001b[0m\u001b[0mnew_x\u001b[0m\u001b[1;33m,\u001b[0m \u001b[0my\u001b[0m\u001b[1;33m,\u001b[0m \u001b[0mori_y\u001b[0m\u001b[1;33m)\u001b[0m\u001b[1;33m:\u001b[0m\u001b[1;33m\u001b[0m\u001b[1;33m\u001b[0m\u001b[0m\n",
      "\u001b[1;31mUnboundLocalError\u001b[0m: local variable 'feature_rank' referenced before assignment"
     ]
    }
   ],
   "source": [
    "path = os.path.join(gd_root,stock_root)\n",
    "feature_std(stockNum,path)\n"
   ]
  },
  {
   "cell_type": "code",
   "execution_count": null,
   "metadata": {
    "collapsed": false,
    "jupyter": {
     "outputs_hidden": false
    },
    "pycharm": {
     "name": "#%%\n"
    }
   },
   "outputs": [],
   "source": []
  }
 ],
 "metadata": {
  "interpreter": {
   "hash": "ecf5722fdaf1897a315d257d89d94520bfcaa453217d5becf09b39e73618b0de"
  },
  "kernelspec": {
   "display_name": "Python 3 (ipykernel)",
   "language": "python",
   "name": "python3"
  },
  "language_info": {
   "codemirror_mode": {
    "name": "ipython",
    "version": 3
   },
   "file_extension": ".py",
   "mimetype": "text/x-python",
   "name": "python",
   "nbconvert_exporter": "python",
   "pygments_lexer": "ipython3",
   "version": "3.9.5"
  }
 },
 "nbformat": 4,
 "nbformat_minor": 4
}
